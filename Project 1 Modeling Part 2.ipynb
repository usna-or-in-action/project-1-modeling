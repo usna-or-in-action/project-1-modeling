{
 "cells": [
  {
   "cell_type": "markdown",
   "id": "90b14294-0985-465b-b0d3-7c64ccd384f9",
   "metadata": {
    "editable": true,
    "slideshow": {
     "slide_type": ""
    },
    "tags": []
   },
   "source": [
    "**Operations Research in Action &#x25aa; Fall 2024**"
   ]
  },
  {
   "cell_type": "markdown",
   "id": "f544703b-8e98-4488-83ad-590fcacaad7f",
   "metadata": {
    "editable": true,
    "slideshow": {
     "slide_type": ""
    },
    "tags": []
   },
   "source": [
    "# Project 1 &ndash; Modeling &ndash; Part 2"
   ]
  },
  {
   "cell_type": "markdown",
   "id": "dd1981a7-de23-43e7-ab5d-17929b18db14",
   "metadata": {
    "editable": true,
    "slideshow": {
     "slide_type": ""
    },
    "tags": []
   },
   "source": [
    "## Regression model building and analysis "
   ]
  },
  {
   "cell_type": "markdown",
   "id": "8cee59ff-e67b-4ed2-89fa-20391c60affd",
   "metadata": {
    "editable": true,
    "slideshow": {
     "slide_type": ""
    },
    "tags": []
   },
   "source": [
    "* Let's start by loading the [olsrr](https://olsrr.rsquaredacademy.com/) library (which we will use shortly) and setting the display width to 100: "
   ]
  },
  {
   "cell_type": "code",
   "execution_count": null,
   "id": "6adad2e9-b48f-4f7f-9713-d36dd6b48a20",
   "metadata": {
    "editable": true,
    "slideshow": {
     "slide_type": ""
    },
    "tags": []
   },
   "outputs": [],
   "source": [
    "library(olsrr)\n",
    "options(width=100)"
   ]
  },
  {
   "cell_type": "markdown",
   "id": "3e42c6e3-33eb-40fe-8d38-8b0839f7d870",
   "metadata": {
    "editable": true,
    "slideshow": {
     "slide_type": ""
    },
    "tags": []
   },
   "source": [
    "* Next, let's read in the CSV file that we created in Part 1 and preview the first few rows: "
   ]
  },
  {
   "cell_type": "code",
   "execution_count": null,
   "id": "ce5f7cc7-37a2-4b8d-a2e0-e0462a34e978",
   "metadata": {
    "editable": true,
    "slideshow": {
     "slide_type": ""
    },
    "tags": []
   },
   "outputs": [],
   "source": []
  },
  {
   "cell_type": "markdown",
   "id": "78691feb-372d-4327-8a45-f95a093f31e2",
   "metadata": {
    "editable": true,
    "slideshow": {
     "slide_type": ""
    },
    "tags": []
   },
   "source": [
    "### Model 1\n",
    "\n",
    "* Let's start by fitting a linear regression model that includes all the variables we discussed above.\n",
    "\n",
    "* Recall that we can explicitly set the order of a categorical variable (\"factor\" in R parlance) with the `factor()` function in R."
   ]
  },
  {
   "cell_type": "code",
   "execution_count": null,
   "id": "16d3dab8-5d12-4b34-9a1c-1d6bbd32cc94",
   "metadata": {
    "editable": true,
    "slideshow": {
     "slide_type": ""
    },
    "tags": []
   },
   "outputs": [],
   "source": []
  },
  {
   "cell_type": "markdown",
   "id": "41fcb399-c075-4034-a394-388bc0336656",
   "metadata": {
    "editable": true,
    "slideshow": {
     "slide_type": ""
    },
    "tags": []
   },
   "source": [
    "### Best subsets regression\n",
    "\n",
    "- We see that some of the predictors in Model 1 are not statistically significant.\n",
    "\n",
    "- Recall that removing or adding a predictor to a linear regression model will affect the statistical significance of the other predictors.\n",
    "\n",
    "- How do we know which predictors to keep?\n",
    "\n",
    "- __Best subsets regression__ chooses predictors by comparing _all possible subsets of predictors_ according to some metric.\n",
    "\n",
    "- There are a number of metrics that could be used to compare the fit of different regression models.\n",
    "\n",
    "- We will use __Akaike's information criterion (AIC)__, which is popular among practicing statisticians.\n",
    "\n",
    "- Lower values of AIC $\\leftrightarrow$ model is more preferred.\n",
    "\n",
    "- We can perform best subsets regression using `ols_step_best_subset()` from the olsrr package, like this:"
   ]
  },
  {
   "cell_type": "code",
   "execution_count": null,
   "id": "7daa9d3f-605e-450a-8e5a-33a780aa3833",
   "metadata": {
    "editable": true,
    "slideshow": {
     "slide_type": ""
    },
    "tags": []
   },
   "outputs": [],
   "source": []
  },
  {
   "cell_type": "markdown",
   "id": "58350a49-cc9b-4b3e-a567-0a64de442ab2",
   "metadata": {
    "editable": true,
    "slideshow": {
     "slide_type": ""
    },
    "tags": []
   },
   "source": [
    "* According to the AIC, which model gives us the best fit?"
   ]
  },
  {
   "cell_type": "markdown",
   "id": "b89e9853-5932-4395-96b8-5883d5b6e8ac",
   "metadata": {
    "editable": true,
    "slideshow": {
     "slide_type": ""
    },
    "tags": []
   },
   "source": [
    "_Write your notes here. Double-click to edit._"
   ]
  },
  {
   "cell_type": "markdown",
   "id": "8d5a3580-3df6-4310-ab25-b18f0d5f7a61",
   "metadata": {
    "editable": true,
    "slideshow": {
     "slide_type": ""
    },
    "tags": []
   },
   "source": [
    "### Model 2\n",
    "\n",
    "* Let's fit the best model according to AIC:\n"
   ]
  },
  {
   "cell_type": "code",
   "execution_count": null,
   "id": "0513abee-3818-4286-915f-cfbe125c5217",
   "metadata": {
    "editable": true,
    "slideshow": {
     "slide_type": ""
    },
    "tags": []
   },
   "outputs": [],
   "source": []
  },
  {
   "cell_type": "markdown",
   "id": "d766fd26-b4e9-487f-be46-d92ce69e1ea5",
   "metadata": {
    "editable": true,
    "slideshow": {
     "slide_type": ""
    },
    "tags": []
   },
   "source": [
    "* Let's check the diagnostic plots:"
   ]
  },
  {
   "cell_type": "code",
   "execution_count": null,
   "id": "4fa91918-af30-4069-bd8f-7dc02707f599",
   "metadata": {
    "editable": true,
    "slideshow": {
     "slide_type": ""
    },
    "tags": []
   },
   "outputs": [],
   "source": []
  },
  {
   "cell_type": "markdown",
   "id": "2e0b539f-7df1-4e49-af20-225fbb554263",
   "metadata": {
    "editable": true,
    "slideshow": {
     "slide_type": ""
    },
    "tags": []
   },
   "source": [
    "* Let's also compute the __variance inflation factors (VIFs)__ to detect multicollinearity.\n",
    "\n",
    "* We can do this using the `ols_vif_tol()` function from the olsrr package, like this:"
   ]
  },
  {
   "cell_type": "code",
   "execution_count": null,
   "id": "70dd897e-bb26-4a64-9d4a-106b65e25398",
   "metadata": {
    "editable": true,
    "slideshow": {
     "slide_type": ""
    },
    "tags": []
   },
   "outputs": [],
   "source": []
  },
  {
   "cell_type": "markdown",
   "id": "a68e3f60-9119-4c8d-adc9-098e0149f88b",
   "metadata": {
    "editable": true,
    "slideshow": {
     "slide_type": ""
    },
    "tags": []
   },
   "source": [
    "* Assess this model using the the diagnostic plots and VIFs. If there are any issues, suggest a remedy."
   ]
  },
  {
   "cell_type": "markdown",
   "id": "ac05282b-ddf4-4b4f-b844-1b65e47ee16f",
   "metadata": {
    "editable": true,
    "slideshow": {
     "slide_type": ""
    },
    "tags": []
   },
   "source": [
    "_Write your notes here. Double-click to edit._"
   ]
  },
  {
   "cell_type": "markdown",
   "id": "fc3aebcc-a100-48c5-8501-24296ec2dcfa",
   "metadata": {
    "editable": true,
    "slideshow": {
     "slide_type": ""
    },
    "tags": []
   },
   "source": [
    "### Model 3\n",
    "\n",
    "- Let's start again with all the possible explanatory variables, but this time, with the transformed response variable."
   ]
  },
  {
   "cell_type": "code",
   "execution_count": null,
   "id": "032ce6ba-f024-44f0-9a9d-c5afc1cedabc",
   "metadata": {
    "editable": true,
    "slideshow": {
     "slide_type": ""
    },
    "tags": []
   },
   "outputs": [],
   "source": []
  },
  {
   "cell_type": "markdown",
   "id": "3a72a271-dff7-4840-90c6-32fe2e956210",
   "metadata": {
    "editable": true,
    "slideshow": {
     "slide_type": ""
    },
    "tags": []
   },
   "source": [
    "### Best subsets regression, again"
   ]
  },
  {
   "cell_type": "markdown",
   "id": "947aab84-193a-4ceb-b8a3-8d4cf271c16c",
   "metadata": {
    "editable": true,
    "slideshow": {
     "slide_type": ""
    },
    "tags": []
   },
   "source": [
    "- Next, let's perform best subsets regression to identify the best collection of predictors, based on AIC."
   ]
  },
  {
   "cell_type": "code",
   "execution_count": null,
   "id": "89b1fc91-fdfb-4602-8d06-5608c39f5473",
   "metadata": {
    "editable": true,
    "slideshow": {
     "slide_type": ""
    },
    "tags": []
   },
   "outputs": [],
   "source": []
  },
  {
   "cell_type": "markdown",
   "id": "8d5f1cb5-1377-4689-8157-3b268d0ad912",
   "metadata": {
    "editable": true,
    "slideshow": {
     "slide_type": ""
    },
    "tags": []
   },
   "source": [
    "### Model 4\n",
    "\n",
    "- Let's examine the best subsets regression by AIC."
   ]
  },
  {
   "cell_type": "code",
   "execution_count": null,
   "id": "9b6dc51f-0e4e-4ec4-bdb4-dbe11e38baff",
   "metadata": {
    "editable": true,
    "slideshow": {
     "slide_type": ""
    },
    "tags": []
   },
   "outputs": [],
   "source": []
  },
  {
   "cell_type": "markdown",
   "id": "e2fecba2-30fd-488a-ae12-755e13422fb8",
   "metadata": {
    "editable": true,
    "slideshow": {
     "slide_type": ""
    },
    "tags": []
   },
   "source": [
    "* Are you satisfied with this model? Why or why not?"
   ]
  },
  {
   "cell_type": "markdown",
   "id": "2d21a1a3-93ac-4191-8e18-7736ecbe2e1d",
   "metadata": {
    "editable": true,
    "slideshow": {
     "slide_type": ""
    },
    "tags": []
   },
   "source": [
    "_Write your notes here. Double-click to edit._"
   ]
  },
  {
   "cell_type": "markdown",
   "id": "2a93260b-1af7-4288-a061-da9e13f5fb81",
   "metadata": {
    "editable": true,
    "slideshow": {
     "slide_type": ""
    },
    "tags": []
   },
   "source": [
    "### Model 5\n",
    "\n",
    "- Let's examine the best subsets regression by AIC with 5 predictors."
   ]
  },
  {
   "cell_type": "code",
   "execution_count": null,
   "id": "871c1d8a-e36c-4e25-bbbe-f67de3dbd0e9",
   "metadata": {
    "editable": true,
    "slideshow": {
     "slide_type": ""
    },
    "tags": []
   },
   "outputs": [],
   "source": []
  },
  {
   "cell_type": "code",
   "execution_count": null,
   "id": "9b777ae8-3cef-4504-b55a-1281182a0e04",
   "metadata": {
    "editable": true,
    "slideshow": {
     "slide_type": ""
    },
    "tags": []
   },
   "outputs": [],
   "source": []
  },
  {
   "cell_type": "markdown",
   "id": "1a0e0662-c439-4e7f-8d7a-b06ed399d111",
   "metadata": {
    "editable": true,
    "slideshow": {
     "slide_type": ""
    },
    "tags": []
   },
   "source": [
    "* Assess this model using the the diagnostic plots and VIFs. If there are any issues, suggest a remedy."
   ]
  },
  {
   "cell_type": "markdown",
   "id": "cbc3050b-c856-4963-9038-f8f431495c61",
   "metadata": {
    "editable": true,
    "slideshow": {
     "slide_type": ""
    },
    "tags": []
   },
   "source": [
    "_Write your notes here. Double-click to edit._"
   ]
  }
 ],
 "metadata": {
  "kernelspec": {
   "display_name": "R",
   "language": "R",
   "name": "ir"
  },
  "language_info": {
   "codemirror_mode": "r",
   "file_extension": ".r",
   "mimetype": "text/x-r-source",
   "name": "R",
   "pygments_lexer": "r",
   "version": "4.2.2"
  }
 },
 "nbformat": 4,
 "nbformat_minor": 5
}
