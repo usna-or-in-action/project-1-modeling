{
 "cells": [
  {
   "cell_type": "markdown",
   "id": "90b14294-0985-465b-b0d3-7c64ccd384f9",
   "metadata": {
    "editable": true,
    "slideshow": {
     "slide_type": ""
    },
    "tags": []
   },
   "source": [
    "**Operations Research in Action &#x25aa; Fall 2024**"
   ]
  },
  {
   "cell_type": "markdown",
   "id": "f544703b-8e98-4488-83ad-590fcacaad7f",
   "metadata": {
    "editable": true,
    "slideshow": {
     "slide_type": ""
    },
    "tags": []
   },
   "source": [
    "# Project 1 &ndash; Modeling &ndash; Part 1"
   ]
  },
  {
   "cell_type": "markdown",
   "id": "a9de5f70-bddd-491d-b749-bc3a257f418d",
   "metadata": {
    "editable": true,
    "slideshow": {
     "slide_type": ""
    },
    "tags": []
   },
   "source": [
    "## Review the available data"
   ]
  },
  {
   "cell_type": "markdown",
   "id": "faf43385-27b5-438d-a93c-4502a0371d98",
   "metadata": {
    "editable": true,
    "slideshow": {
     "slide_type": ""
    },
    "tags": []
   },
   "source": [
    "- Recall that the purpose of this project is to forecast the monthly demand for beer based on a variety of factors."
   ]
  },
  {
   "cell_type": "markdown",
   "id": "dd441a0e-90c6-44cd-8c19-7082f90fecf9",
   "metadata": {
    "editable": true,
    "slideshow": {
     "slide_type": ""
    },
    "tags": []
   },
   "source": [
    "* Let's refresh our memory and take a look at the data:"
   ]
  },
  {
   "cell_type": "code",
   "execution_count": null,
   "id": "e42f7a21-779c-47b5-ab5f-caab8d93ab43",
   "metadata": {
    "editable": true,
    "slideshow": {
     "slide_type": ""
    },
    "tags": []
   },
   "outputs": [],
   "source": [
    "import pandas as pd"
   ]
  },
  {
   "cell_type": "code",
   "execution_count": null,
   "id": "caf1a385-2688-4c69-8575-4370aff6e76d",
   "metadata": {
    "editable": true,
    "slideshow": {
     "slide_type": ""
    },
    "tags": []
   },
   "outputs": [],
   "source": [
    "demand_price_df = pd.read_excel(\n",
    "    './data/TablesA3A4.xlsx',\n",
    "    sheet_name='Table A3',\n",
    "    skiprows=3,\n",
    "    nrows=84,\n",
    "    header=None,\n",
    "    names=[\n",
    "        'Year',\n",
    "        'Month',\n",
    "        'BeerConsumption',\n",
    "        'AvgBeerPrice',\n",
    "        'AvgRakiPrice',\n",
    "        'AvgCannedSoftDrinkPrice',\n",
    "        'AvgCannedBeerPrice',\n",
    "        'AvgDraftBeerPrice'\n",
    "    ]\n",
    ")\n",
    "\n",
    "demand_price_df.head()"
   ]
  },
  {
   "cell_type": "code",
   "execution_count": null,
   "id": "0b948577-1de2-4f09-8de4-db671e1723df",
   "metadata": {
    "editable": true,
    "slideshow": {
     "slide_type": ""
    },
    "tags": []
   },
   "outputs": [],
   "source": [
    "tourist_df = pd.read_excel(\n",
    "    './data/TablesA3A4.xlsx',\n",
    "    sheet_name='Table A4',\n",
    "    skiprows=3,\n",
    "    header=None,\n",
    "    names=[\n",
    "        'Year',\n",
    "        'Month',\n",
    "        'Czechoslovakia',\n",
    "        'Germany',\n",
    "        'UnitedKingdom',\n",
    "        'UnitedStates',\n",
    "        'France',\n",
    "        'Others'\n",
    "    ]\n",
    ")\n",
    "\n",
    "tourist_df.head()"
   ]
  },
  {
   "cell_type": "code",
   "execution_count": null,
   "id": "3583d149-bd71-4b17-b061-f7a4d8dd2870",
   "metadata": {
    "editable": true,
    "slideshow": {
     "slide_type": ""
    },
    "tags": []
   },
   "outputs": [],
   "source": [
    "ramadan_days_df = pd.read_excel(\n",
    "    './data/FromCase.xlsx',\n",
    "    sheet_name='RamadanDays'\n",
    ")\n",
    "\n",
    "ramadan_days_df.head()"
   ]
  },
  {
   "cell_type": "code",
   "execution_count": null,
   "id": "03b8b7d9-d571-45f9-9241-fdc0dfa0d813",
   "metadata": {
    "editable": true,
    "slideshow": {
     "slide_type": ""
    },
    "tags": []
   },
   "outputs": [],
   "source": [
    "beer_consumption_df = pd.read_excel(\n",
    "    './data/FromCase.xlsx',\n",
    "    sheet_name='DailyBeerConsumption',\n",
    "    index_col='Country'\n",
    ")\n",
    "\n",
    "beer_consumption_df.head()"
   ]
  },
  {
   "cell_type": "markdown",
   "id": "b2465e03-7400-492d-af58-cc2ec700a003",
   "metadata": {
    "editable": true,
    "slideshow": {
     "slide_type": ""
    },
    "tags": []
   },
   "source": [
    "## Brainstorming a linear regression model"
   ]
  },
  {
   "cell_type": "markdown",
   "id": "14f46d62-7990-40be-a912-d623e6e51d65",
   "metadata": {
    "editable": true,
    "slideshow": {
     "slide_type": ""
    },
    "tags": []
   },
   "source": [
    "- As we discussed earlier, we can use __linear regression__ to forecast monthly beer demand.\n",
    "\n",
    "- Recall the linear regression model:\n",
    "\n",
    "$$Y = \\beta_0 + \\beta_1 X_1 + \\dots + \\beta_k X_k + \\varepsilon \\qquad \\varepsilon \\sim \\text{iid } N(0, \\sigma_{\\varepsilon}^2)$$\n",
    "\n",
    "- $Y$ is the __response variable__, of the variable that measures the outcome of interest.\n",
    "\n",
    "- $X_1, \\dots, X_k$ are the __explanatory variables__, the variables whose relationship to the response variable is being studied. "
   ]
  },
  {
   "cell_type": "markdown",
   "id": "3dc9b067-3a5c-49ff-9a28-433b9dd5cd06",
   "metadata": {
    "editable": true,
    "slideshow": {
     "slide_type": ""
    },
    "tags": []
   },
   "source": [
    "* What should we use as the response variable?"
   ]
  },
  {
   "cell_type": "markdown",
   "id": "b2d6ccfc-94a0-4273-9b90-c73afefebb2c",
   "metadata": {
    "editable": true,
    "slideshow": {
     "slide_type": ""
    },
    "tags": []
   },
   "source": [
    "_Write your notes here. Double-click to edit._"
   ]
  },
  {
   "cell_type": "markdown",
   "id": "ad74a4c7-e018-4fe2-a233-80ea066c2df0",
   "metadata": {
    "editable": true,
    "slideshow": {
     "slide_type": ""
    },
    "tags": []
   },
   "source": [
    "* What should we use as the explanatory variables? "
   ]
  },
  {
   "cell_type": "markdown",
   "id": "fa3e1364-b365-4527-88be-e72adb63b7d8",
   "metadata": {
    "editable": true,
    "slideshow": {
     "slide_type": ""
    },
    "tags": []
   },
   "source": [
    "_Write your notes here. Double-click to edit._"
   ]
  },
  {
   "cell_type": "markdown",
   "id": "b0f8ba11-f04e-4c63-b31d-4b009b7b7dfd",
   "metadata": {
    "editable": true,
    "slideshow": {
     "slide_type": ""
    },
    "tags": []
   },
   "source": [
    "## Data wrangling"
   ]
  },
  {
   "cell_type": "markdown",
   "id": "2b4a3ced-697b-4450-81be-ceb2b2e3350b",
   "metadata": {
    "editable": true,
    "slideshow": {
     "slide_type": ""
    },
    "tags": []
   },
   "source": [
    "* To run a linear regression model with all of these variables, we need to create a new single data frame that contains all of them.\n",
    "\n",
    "* To do this, we'll need to do some basic __data wrangling__."
   ]
  },
  {
   "cell_type": "markdown",
   "id": "c87a643e-377d-4ceb-ab57-22c8956a3702",
   "metadata": {
    "editable": true,
    "slideshow": {
     "slide_type": ""
    },
    "tags": []
   },
   "source": [
    "* Let's merge all the tables together, matching rows based on `Year` and `Month`.\n",
    "\n",
    "* We can accomplish this using the `.merge()`  method of a Pandas DataFrame.\n",
    "\n",
    "* [Here is the documentation for `.merge()`](https://pandas.pydata.org/docs/reference/api/pandas.DataFrame.merge.html)."
   ]
  },
  {
   "cell_type": "code",
   "execution_count": null,
   "id": "743de242-8199-44d5-bade-51b7b4a0a0de",
   "metadata": {
    "editable": true,
    "slideshow": {
     "slide_type": ""
    },
    "tags": []
   },
   "outputs": [],
   "source": []
  },
  {
   "cell_type": "markdown",
   "id": "22cf6148-7950-4649-8ca9-3595491764bd",
   "metadata": {
    "editable": true,
    "slideshow": {
     "slide_type": ""
    },
    "tags": []
   },
   "source": [
    "* Let's also add an estimate of the monthly tourist beer consumption to this DataFrame."
   ]
  },
  {
   "cell_type": "code",
   "execution_count": null,
   "id": "cbc1856e-6558-4c46-9513-f3f6085a4e4e",
   "metadata": {
    "editable": true,
    "slideshow": {
     "slide_type": ""
    },
    "tags": []
   },
   "outputs": [],
   "source": []
  },
  {
   "cell_type": "markdown",
   "id": "cef2ec9c-ba6a-4515-8b39-764bb50e3435",
   "metadata": {
    "editable": true,
    "slideshow": {
     "slide_type": ""
    },
    "tags": []
   },
   "source": [
    "* Finally, let's output this DataFrame to a CSV file so that we can use it with R to do some regression modeling:"
   ]
  },
  {
   "cell_type": "code",
   "execution_count": null,
   "id": "69b00a46-465a-40da-9915-8832f9695e1b",
   "metadata": {
    "editable": true,
    "slideshow": {
     "slide_type": ""
    },
    "tags": []
   },
   "outputs": [],
   "source": []
  }
 ],
 "metadata": {
  "kernelspec": {
   "display_name": "Python 3 (ipykernel)",
   "language": "python",
   "name": "python3"
  },
  "language_info": {
   "codemirror_mode": {
    "name": "ipython",
    "version": 3
   },
   "file_extension": ".py",
   "mimetype": "text/x-python",
   "name": "python",
   "nbconvert_exporter": "python",
   "pygments_lexer": "ipython3",
   "version": "3.11.6"
  }
 },
 "nbformat": 4,
 "nbformat_minor": 5
}
