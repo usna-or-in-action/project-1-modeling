{
 "cells": [
  {
   "cell_type": "markdown",
   "id": "90b14294-0985-465b-b0d3-7c64ccd384f9",
   "metadata": {
    "editable": true,
    "slideshow": {
     "slide_type": ""
    },
    "tags": []
   },
   "source": [
    "**Operations Research in Action &#x25aa; Fall 2024**"
   ]
  },
  {
   "cell_type": "markdown",
   "id": "f544703b-8e98-4488-83ad-590fcacaad7f",
   "metadata": {
    "editable": true,
    "slideshow": {
     "slide_type": ""
    },
    "tags": []
   },
   "source": [
    "# Project 1 &ndash; Modeling &ndash; Part 1"
   ]
  },
  {
   "cell_type": "markdown",
   "id": "a9de5f70-bddd-491d-b749-bc3a257f418d",
   "metadata": {
    "editable": true,
    "slideshow": {
     "slide_type": ""
    },
    "tags": []
   },
   "source": [
    "## Review the available data"
   ]
  },
  {
   "cell_type": "markdown",
   "id": "faf43385-27b5-438d-a93c-4502a0371d98",
   "metadata": {
    "editable": true,
    "slideshow": {
     "slide_type": ""
    },
    "tags": []
   },
   "source": [
    "- Recall that the purpose of this project is to forecast the monthly demand for beer based on a variety of factors."
   ]
  },
  {
   "cell_type": "markdown",
   "id": "dd441a0e-90c6-44cd-8c19-7082f90fecf9",
   "metadata": {
    "editable": true,
    "slideshow": {
     "slide_type": ""
    },
    "tags": []
   },
   "source": [
    "* Let's refresh our memory and take a look at the data:"
   ]
  },
  {
   "cell_type": "code",
   "execution_count": 1,
   "id": "e42f7a21-779c-47b5-ab5f-caab8d93ab43",
   "metadata": {
    "editable": true,
    "slideshow": {
     "slide_type": ""
    },
    "tags": []
   },
   "outputs": [],
   "source": [
    "import pandas as pd"
   ]
  },
  {
   "cell_type": "code",
   "execution_count": 2,
   "id": "caf1a385-2688-4c69-8575-4370aff6e76d",
   "metadata": {
    "editable": true,
    "slideshow": {
     "slide_type": ""
    },
    "tags": []
   },
   "outputs": [
    {
     "data": {
      "text/html": [
       "<div>\n",
       "<style scoped>\n",
       "    .dataframe tbody tr th:only-of-type {\n",
       "        vertical-align: middle;\n",
       "    }\n",
       "\n",
       "    .dataframe tbody tr th {\n",
       "        vertical-align: top;\n",
       "    }\n",
       "\n",
       "    .dataframe thead th {\n",
       "        text-align: right;\n",
       "    }\n",
       "</style>\n",
       "<table border=\"1\" class=\"dataframe\">\n",
       "  <thead>\n",
       "    <tr style=\"text-align: right;\">\n",
       "      <th></th>\n",
       "      <th>Year</th>\n",
       "      <th>Month</th>\n",
       "      <th>BeerConsumption</th>\n",
       "      <th>AvgBeerPrice</th>\n",
       "      <th>AvgRakiPrice</th>\n",
       "      <th>AvgCannedSoftDrinkPrice</th>\n",
       "      <th>AvgCannedBeerPrice</th>\n",
       "      <th>AvgDraftBeerPrice</th>\n",
       "    </tr>\n",
       "  </thead>\n",
       "  <tbody>\n",
       "    <tr>\n",
       "      <th>0</th>\n",
       "      <td>1987</td>\n",
       "      <td>January</td>\n",
       "      <td>13621800</td>\n",
       "      <td>1338.424656</td>\n",
       "      <td>9715.74</td>\n",
       "      <td>2208.12</td>\n",
       "      <td>2671.750</td>\n",
       "      <td>971.574039</td>\n",
       "    </tr>\n",
       "    <tr>\n",
       "      <th>1</th>\n",
       "      <td>1987</td>\n",
       "      <td>February</td>\n",
       "      <td>14346944</td>\n",
       "      <td>1314.441618</td>\n",
       "      <td>9460.31</td>\n",
       "      <td>2150.07</td>\n",
       "      <td>2866.475</td>\n",
       "      <td>946.031197</td>\n",
       "    </tr>\n",
       "    <tr>\n",
       "      <th>2</th>\n",
       "      <td>1987</td>\n",
       "      <td>March</td>\n",
       "      <td>14912839</td>\n",
       "      <td>1267.542544</td>\n",
       "      <td>9122.77</td>\n",
       "      <td>2073.36</td>\n",
       "      <td>2764.199</td>\n",
       "      <td>912.276950</td>\n",
       "    </tr>\n",
       "    <tr>\n",
       "      <th>3</th>\n",
       "      <td>1987</td>\n",
       "      <td>April</td>\n",
       "      <td>16129850</td>\n",
       "      <td>1241.471640</td>\n",
       "      <td>8935.13</td>\n",
       "      <td>2030.71</td>\n",
       "      <td>2707.345</td>\n",
       "      <td>893.513173</td>\n",
       "    </tr>\n",
       "    <tr>\n",
       "      <th>4</th>\n",
       "      <td>1987</td>\n",
       "      <td>May</td>\n",
       "      <td>12140503</td>\n",
       "      <td>1183.481067</td>\n",
       "      <td>8517.76</td>\n",
       "      <td>1935.85</td>\n",
       "      <td>2580.882</td>\n",
       "      <td>851.776142</td>\n",
       "    </tr>\n",
       "  </tbody>\n",
       "</table>\n",
       "</div>"
      ],
      "text/plain": [
       "   Year     Month  BeerConsumption  AvgBeerPrice  AvgRakiPrice  \\\n",
       "0  1987   January         13621800   1338.424656       9715.74   \n",
       "1  1987  February         14346944   1314.441618       9460.31   \n",
       "2  1987     March         14912839   1267.542544       9122.77   \n",
       "3  1987     April         16129850   1241.471640       8935.13   \n",
       "4  1987       May         12140503   1183.481067       8517.76   \n",
       "\n",
       "   AvgCannedSoftDrinkPrice  AvgCannedBeerPrice  AvgDraftBeerPrice  \n",
       "0                  2208.12            2671.750         971.574039  \n",
       "1                  2150.07            2866.475         946.031197  \n",
       "2                  2073.36            2764.199         912.276950  \n",
       "3                  2030.71            2707.345         893.513173  \n",
       "4                  1935.85            2580.882         851.776142  "
      ]
     },
     "execution_count": 2,
     "metadata": {},
     "output_type": "execute_result"
    }
   ],
   "source": [
    "demand_price_df = pd.read_excel(\n",
    "    './data/TablesA3A4.xlsx',\n",
    "    sheet_name='Table A3',\n",
    "    skiprows=3,\n",
    "    nrows=84,\n",
    "    header=None,\n",
    "    names=[\n",
    "        'Year',\n",
    "        'Month',\n",
    "        'BeerConsumption',\n",
    "        'AvgBeerPrice',\n",
    "        'AvgRakiPrice',\n",
    "        'AvgCannedSoftDrinkPrice',\n",
    "        'AvgCannedBeerPrice',\n",
    "        'AvgDraftBeerPrice'\n",
    "    ]\n",
    ")\n",
    "\n",
    "demand_price_df.head()"
   ]
  },
  {
   "cell_type": "code",
   "execution_count": 3,
   "id": "0b948577-1de2-4f09-8de4-db671e1723df",
   "metadata": {
    "editable": true,
    "slideshow": {
     "slide_type": ""
    },
    "tags": []
   },
   "outputs": [
    {
     "data": {
      "text/html": [
       "<div>\n",
       "<style scoped>\n",
       "    .dataframe tbody tr th:only-of-type {\n",
       "        vertical-align: middle;\n",
       "    }\n",
       "\n",
       "    .dataframe tbody tr th {\n",
       "        vertical-align: top;\n",
       "    }\n",
       "\n",
       "    .dataframe thead th {\n",
       "        text-align: right;\n",
       "    }\n",
       "</style>\n",
       "<table border=\"1\" class=\"dataframe\">\n",
       "  <thead>\n",
       "    <tr style=\"text-align: right;\">\n",
       "      <th></th>\n",
       "      <th>Year</th>\n",
       "      <th>Month</th>\n",
       "      <th>Czechoslovakia</th>\n",
       "      <th>Germany</th>\n",
       "      <th>UnitedKingdom</th>\n",
       "      <th>UnitedStates</th>\n",
       "      <th>France</th>\n",
       "      <th>Others</th>\n",
       "    </tr>\n",
       "  </thead>\n",
       "  <tbody>\n",
       "    <tr>\n",
       "      <th>0</th>\n",
       "      <td>1987</td>\n",
       "      <td>January</td>\n",
       "      <td>290</td>\n",
       "      <td>28056</td>\n",
       "      <td>11380</td>\n",
       "      <td>25060</td>\n",
       "      <td>9246</td>\n",
       "      <td>35135</td>\n",
       "    </tr>\n",
       "    <tr>\n",
       "      <th>1</th>\n",
       "      <td>1987</td>\n",
       "      <td>February</td>\n",
       "      <td>253</td>\n",
       "      <td>29715</td>\n",
       "      <td>20630</td>\n",
       "      <td>21648</td>\n",
       "      <td>11941</td>\n",
       "      <td>38488</td>\n",
       "    </tr>\n",
       "    <tr>\n",
       "      <th>2</th>\n",
       "      <td>1987</td>\n",
       "      <td>March</td>\n",
       "      <td>478</td>\n",
       "      <td>67370</td>\n",
       "      <td>30506</td>\n",
       "      <td>30386</td>\n",
       "      <td>15810</td>\n",
       "      <td>53071</td>\n",
       "    </tr>\n",
       "    <tr>\n",
       "      <th>3</th>\n",
       "      <td>1987</td>\n",
       "      <td>April</td>\n",
       "      <td>1025</td>\n",
       "      <td>271147</td>\n",
       "      <td>70016</td>\n",
       "      <td>43137</td>\n",
       "      <td>94247</td>\n",
       "      <td>141639</td>\n",
       "    </tr>\n",
       "    <tr>\n",
       "      <th>4</th>\n",
       "      <td>1987</td>\n",
       "      <td>May</td>\n",
       "      <td>2776</td>\n",
       "      <td>405921</td>\n",
       "      <td>165298</td>\n",
       "      <td>69696</td>\n",
       "      <td>155816</td>\n",
       "      <td>225780</td>\n",
       "    </tr>\n",
       "  </tbody>\n",
       "</table>\n",
       "</div>"
      ],
      "text/plain": [
       "   Year     Month  Czechoslovakia  Germany  UnitedKingdom  UnitedStates  \\\n",
       "0  1987   January             290    28056          11380         25060   \n",
       "1  1987  February             253    29715          20630         21648   \n",
       "2  1987     March             478    67370          30506         30386   \n",
       "3  1987     April            1025   271147          70016         43137   \n",
       "4  1987       May            2776   405921         165298         69696   \n",
       "\n",
       "   France  Others  \n",
       "0    9246   35135  \n",
       "1   11941   38488  \n",
       "2   15810   53071  \n",
       "3   94247  141639  \n",
       "4  155816  225780  "
      ]
     },
     "execution_count": 3,
     "metadata": {},
     "output_type": "execute_result"
    }
   ],
   "source": [
    "tourist_df = pd.read_excel(\n",
    "    './data/TablesA3A4.xlsx',\n",
    "    sheet_name='Table A4',\n",
    "    skiprows=3,\n",
    "    header=None,\n",
    "    names=[\n",
    "        'Year',\n",
    "        'Month',\n",
    "        'Czechoslovakia',\n",
    "        'Germany',\n",
    "        'UnitedKingdom',\n",
    "        'UnitedStates',\n",
    "        'France',\n",
    "        'Others'\n",
    "    ]\n",
    ")\n",
    "\n",
    "tourist_df.head()"
   ]
  },
  {
   "cell_type": "code",
   "execution_count": 4,
   "id": "3583d149-bd71-4b17-b061-f7a4d8dd2870",
   "metadata": {
    "editable": true,
    "slideshow": {
     "slide_type": ""
    },
    "tags": []
   },
   "outputs": [
    {
     "data": {
      "text/html": [
       "<div>\n",
       "<style scoped>\n",
       "    .dataframe tbody tr th:only-of-type {\n",
       "        vertical-align: middle;\n",
       "    }\n",
       "\n",
       "    .dataframe tbody tr th {\n",
       "        vertical-align: top;\n",
       "    }\n",
       "\n",
       "    .dataframe thead th {\n",
       "        text-align: right;\n",
       "    }\n",
       "</style>\n",
       "<table border=\"1\" class=\"dataframe\">\n",
       "  <thead>\n",
       "    <tr style=\"text-align: right;\">\n",
       "      <th></th>\n",
       "      <th>Year</th>\n",
       "      <th>Month</th>\n",
       "      <th>RamadanDays</th>\n",
       "    </tr>\n",
       "  </thead>\n",
       "  <tbody>\n",
       "    <tr>\n",
       "      <th>0</th>\n",
       "      <td>1987</td>\n",
       "      <td>January</td>\n",
       "      <td>0</td>\n",
       "    </tr>\n",
       "    <tr>\n",
       "      <th>1</th>\n",
       "      <td>1987</td>\n",
       "      <td>February</td>\n",
       "      <td>0</td>\n",
       "    </tr>\n",
       "    <tr>\n",
       "      <th>2</th>\n",
       "      <td>1987</td>\n",
       "      <td>March</td>\n",
       "      <td>0</td>\n",
       "    </tr>\n",
       "    <tr>\n",
       "      <th>3</th>\n",
       "      <td>1987</td>\n",
       "      <td>April</td>\n",
       "      <td>2</td>\n",
       "    </tr>\n",
       "    <tr>\n",
       "      <th>4</th>\n",
       "      <td>1987</td>\n",
       "      <td>May</td>\n",
       "      <td>28</td>\n",
       "    </tr>\n",
       "  </tbody>\n",
       "</table>\n",
       "</div>"
      ],
      "text/plain": [
       "   Year     Month  RamadanDays\n",
       "0  1987   January            0\n",
       "1  1987  February            0\n",
       "2  1987     March            0\n",
       "3  1987     April            2\n",
       "4  1987       May           28"
      ]
     },
     "execution_count": 4,
     "metadata": {},
     "output_type": "execute_result"
    }
   ],
   "source": [
    "ramadan_days_df = pd.read_excel(\n",
    "    './data/FromCase.xlsx',\n",
    "    sheet_name='RamadanDays'\n",
    ")\n",
    "\n",
    "ramadan_days_df.head()"
   ]
  },
  {
   "cell_type": "code",
   "execution_count": 5,
   "id": "03b8b7d9-d571-45f9-9241-fdc0dfa0d813",
   "metadata": {
    "editable": true,
    "slideshow": {
     "slide_type": ""
    },
    "tags": []
   },
   "outputs": [
    {
     "data": {
      "text/html": [
       "<div>\n",
       "<style scoped>\n",
       "    .dataframe tbody tr th:only-of-type {\n",
       "        vertical-align: middle;\n",
       "    }\n",
       "\n",
       "    .dataframe tbody tr th {\n",
       "        vertical-align: top;\n",
       "    }\n",
       "\n",
       "    .dataframe thead th {\n",
       "        text-align: right;\n",
       "    }\n",
       "</style>\n",
       "<table border=\"1\" class=\"dataframe\">\n",
       "  <thead>\n",
       "    <tr style=\"text-align: right;\">\n",
       "      <th></th>\n",
       "      <th>AvgDailyBeerConsumptionPerCapita</th>\n",
       "    </tr>\n",
       "    <tr>\n",
       "      <th>Country</th>\n",
       "      <th></th>\n",
       "    </tr>\n",
       "  </thead>\n",
       "  <tbody>\n",
       "    <tr>\n",
       "      <th>Czechoslovakia</th>\n",
       "      <td>0.446575</td>\n",
       "    </tr>\n",
       "    <tr>\n",
       "      <th>Germany</th>\n",
       "      <td>0.378082</td>\n",
       "    </tr>\n",
       "    <tr>\n",
       "      <th>UnitedKingdom</th>\n",
       "      <td>0.273973</td>\n",
       "    </tr>\n",
       "    <tr>\n",
       "      <th>UnitedStates</th>\n",
       "      <td>0.235616</td>\n",
       "    </tr>\n",
       "    <tr>\n",
       "      <th>Others</th>\n",
       "      <td>0.184395</td>\n",
       "    </tr>\n",
       "  </tbody>\n",
       "</table>\n",
       "</div>"
      ],
      "text/plain": [
       "                AvgDailyBeerConsumptionPerCapita\n",
       "Country                                         \n",
       "Czechoslovakia                          0.446575\n",
       "Germany                                 0.378082\n",
       "UnitedKingdom                           0.273973\n",
       "UnitedStates                            0.235616\n",
       "Others                                  0.184395"
      ]
     },
     "execution_count": 5,
     "metadata": {},
     "output_type": "execute_result"
    }
   ],
   "source": [
    "beer_consumption_df = pd.read_excel(\n",
    "    './data/FromCase.xlsx',\n",
    "    sheet_name='DailyBeerConsumption',\n",
    "    index_col='Country'\n",
    ")\n",
    "\n",
    "beer_consumption_df.head()"
   ]
  },
  {
   "cell_type": "markdown",
   "id": "b2465e03-7400-492d-af58-cc2ec700a003",
   "metadata": {
    "editable": true,
    "slideshow": {
     "slide_type": ""
    },
    "tags": []
   },
   "source": [
    "## Brainstorming a linear regression model"
   ]
  },
  {
   "cell_type": "markdown",
   "id": "14f46d62-7990-40be-a912-d623e6e51d65",
   "metadata": {
    "editable": true,
    "slideshow": {
     "slide_type": ""
    },
    "tags": []
   },
   "source": [
    "- As we discussed earlier, we can use __linear regression__ to forecast monthly beer demand.\n",
    "\n",
    "- Recall the linear regression model:\n",
    "\n",
    "$$Y = \\beta_0 + \\beta_1 X_1 + \\dots + \\beta_k X_k + \\varepsilon \\qquad \\varepsilon \\sim \\text{iid } N(0, \\sigma_{\\varepsilon}^2)$$\n",
    "\n",
    "- $Y$ is the __response variable__, of the variable that measures the outcome of interest.\n",
    "\n",
    "- $X_1, \\dots, X_k$ are the __explanatory variables__, the variables whose relationship to the response variable is being studied. "
   ]
  },
  {
   "cell_type": "markdown",
   "id": "3dc9b067-3a5c-49ff-9a28-433b9dd5cd06",
   "metadata": {
    "editable": true,
    "slideshow": {
     "slide_type": ""
    },
    "tags": []
   },
   "source": [
    "* What should we use as the response variable?"
   ]
  },
  {
   "cell_type": "markdown",
   "id": "b2d6ccfc-94a0-4273-9b90-c73afefebb2c",
   "metadata": {
    "editable": true,
    "slideshow": {
     "slide_type": ""
    },
    "tags": []
   },
   "source": [
    "_Write your notes here. Double-click to edit._"
   ]
  },
  {
   "cell_type": "markdown",
   "id": "7324c956-1396-4427-9310-360dcaf4e95e",
   "metadata": {
    "editable": true,
    "slideshow": {
     "slide_type": ""
    },
    "tags": [
     "solution"
    ]
   },
   "source": [
    "_Solution._ We would ideally use the monthly beer demand as the response variable, since that is what we want to predict. However, we don't have that data. We can use monthly beer consumption as a proxy instead, as long as we keep in mind that we've made the assumption that consumption is roughly equal to demand."
   ]
  },
  {
   "cell_type": "markdown",
   "id": "ad74a4c7-e018-4fe2-a233-80ea066c2df0",
   "metadata": {
    "editable": true,
    "slideshow": {
     "slide_type": ""
    },
    "tags": []
   },
   "source": [
    "* What should we use as the explanatory variables? "
   ]
  },
  {
   "cell_type": "markdown",
   "id": "fa3e1364-b365-4527-88be-e72adb63b7d8",
   "metadata": {
    "editable": true,
    "slideshow": {
     "slide_type": ""
    },
    "tags": []
   },
   "source": [
    "_Write your notes here. Double-click to edit._"
   ]
  },
  {
   "cell_type": "markdown",
   "id": "89e6a7ec-1369-4076-995d-890106e91060",
   "metadata": {
    "editable": true,
    "slideshow": {
     "slide_type": ""
    },
    "tags": [
     "solution"
    ]
   },
   "source": [
    "_Solution._ There are a number of variables that might influence monthly beer demand: \n",
    "\n",
    "- average beer price \n",
    "- average Raki price \n",
    "- average canned soft drink price \n",
    "- average canned beer price \n",
    "- average draft beer price \n",
    "- tourist beer consumption\n",
    "- year (to control for long-term effects)\n",
    "- month (to control for seasonal effects)\n",
    "- number of Ramadan days in the month"
   ]
  },
  {
   "cell_type": "markdown",
   "id": "b0f8ba11-f04e-4c63-b31d-4b009b7b7dfd",
   "metadata": {
    "editable": true,
    "slideshow": {
     "slide_type": ""
    },
    "tags": []
   },
   "source": [
    "## Data wrangling"
   ]
  },
  {
   "cell_type": "markdown",
   "id": "2b4a3ced-697b-4450-81be-ceb2b2e3350b",
   "metadata": {
    "editable": true,
    "slideshow": {
     "slide_type": ""
    },
    "tags": []
   },
   "source": [
    "* To run a linear regression model with all of these variables, we need to create a new single data frame that contains all of them.\n",
    "\n",
    "* To do this, we'll need to do some basic __data wrangling__."
   ]
  },
  {
   "cell_type": "markdown",
   "id": "c87a643e-377d-4ceb-ab57-22c8956a3702",
   "metadata": {
    "editable": true,
    "slideshow": {
     "slide_type": ""
    },
    "tags": []
   },
   "source": [
    "* Let's merge all the tables together, matching rows based on `Year` and `Month`.\n",
    "\n",
    "* We can accomplish this using the `.merge()`  method of a Pandas DataFrame.\n",
    "\n",
    "* [Here is the documentation for `.merge()`](https://pandas.pydata.org/docs/reference/api/pandas.DataFrame.merge.html)."
   ]
  },
  {
   "cell_type": "code",
   "execution_count": null,
   "id": "743de242-8199-44d5-bade-51b7b4a0a0de",
   "metadata": {
    "editable": true,
    "slideshow": {
     "slide_type": ""
    },
    "tags": []
   },
   "outputs": [],
   "source": []
  },
  {
   "cell_type": "code",
   "execution_count": 6,
   "id": "71d23979-440d-435f-8355-543c6d3bf3c5",
   "metadata": {
    "editable": true,
    "slideshow": {
     "slide_type": ""
    },
    "tags": [
     "solution"
    ]
   },
   "outputs": [
    {
     "data": {
      "text/html": [
       "<div>\n",
       "<style scoped>\n",
       "    .dataframe tbody tr th:only-of-type {\n",
       "        vertical-align: middle;\n",
       "    }\n",
       "\n",
       "    .dataframe tbody tr th {\n",
       "        vertical-align: top;\n",
       "    }\n",
       "\n",
       "    .dataframe thead th {\n",
       "        text-align: right;\n",
       "    }\n",
       "</style>\n",
       "<table border=\"1\" class=\"dataframe\">\n",
       "  <thead>\n",
       "    <tr style=\"text-align: right;\">\n",
       "      <th></th>\n",
       "      <th>Year</th>\n",
       "      <th>Month</th>\n",
       "      <th>BeerConsumption</th>\n",
       "      <th>AvgBeerPrice</th>\n",
       "      <th>AvgRakiPrice</th>\n",
       "      <th>AvgCannedSoftDrinkPrice</th>\n",
       "      <th>AvgCannedBeerPrice</th>\n",
       "      <th>AvgDraftBeerPrice</th>\n",
       "      <th>Czechoslovakia</th>\n",
       "      <th>Germany</th>\n",
       "      <th>UnitedKingdom</th>\n",
       "      <th>UnitedStates</th>\n",
       "      <th>France</th>\n",
       "      <th>Others</th>\n",
       "      <th>RamadanDays</th>\n",
       "    </tr>\n",
       "  </thead>\n",
       "  <tbody>\n",
       "    <tr>\n",
       "      <th>0</th>\n",
       "      <td>1987</td>\n",
       "      <td>January</td>\n",
       "      <td>13621800</td>\n",
       "      <td>1338.424656</td>\n",
       "      <td>9715.74</td>\n",
       "      <td>2208.12</td>\n",
       "      <td>2671.750</td>\n",
       "      <td>971.574039</td>\n",
       "      <td>290</td>\n",
       "      <td>28056</td>\n",
       "      <td>11380</td>\n",
       "      <td>25060</td>\n",
       "      <td>9246</td>\n",
       "      <td>35135</td>\n",
       "      <td>0</td>\n",
       "    </tr>\n",
       "    <tr>\n",
       "      <th>1</th>\n",
       "      <td>1987</td>\n",
       "      <td>February</td>\n",
       "      <td>14346944</td>\n",
       "      <td>1314.441618</td>\n",
       "      <td>9460.31</td>\n",
       "      <td>2150.07</td>\n",
       "      <td>2866.475</td>\n",
       "      <td>946.031197</td>\n",
       "      <td>253</td>\n",
       "      <td>29715</td>\n",
       "      <td>20630</td>\n",
       "      <td>21648</td>\n",
       "      <td>11941</td>\n",
       "      <td>38488</td>\n",
       "      <td>0</td>\n",
       "    </tr>\n",
       "    <tr>\n",
       "      <th>2</th>\n",
       "      <td>1987</td>\n",
       "      <td>March</td>\n",
       "      <td>14912839</td>\n",
       "      <td>1267.542544</td>\n",
       "      <td>9122.77</td>\n",
       "      <td>2073.36</td>\n",
       "      <td>2764.199</td>\n",
       "      <td>912.276950</td>\n",
       "      <td>478</td>\n",
       "      <td>67370</td>\n",
       "      <td>30506</td>\n",
       "      <td>30386</td>\n",
       "      <td>15810</td>\n",
       "      <td>53071</td>\n",
       "      <td>0</td>\n",
       "    </tr>\n",
       "    <tr>\n",
       "      <th>3</th>\n",
       "      <td>1987</td>\n",
       "      <td>April</td>\n",
       "      <td>16129850</td>\n",
       "      <td>1241.471640</td>\n",
       "      <td>8935.13</td>\n",
       "      <td>2030.71</td>\n",
       "      <td>2707.345</td>\n",
       "      <td>893.513173</td>\n",
       "      <td>1025</td>\n",
       "      <td>271147</td>\n",
       "      <td>70016</td>\n",
       "      <td>43137</td>\n",
       "      <td>94247</td>\n",
       "      <td>141639</td>\n",
       "      <td>2</td>\n",
       "    </tr>\n",
       "    <tr>\n",
       "      <th>4</th>\n",
       "      <td>1987</td>\n",
       "      <td>May</td>\n",
       "      <td>12140503</td>\n",
       "      <td>1183.481067</td>\n",
       "      <td>8517.76</td>\n",
       "      <td>1935.85</td>\n",
       "      <td>2580.882</td>\n",
       "      <td>851.776142</td>\n",
       "      <td>2776</td>\n",
       "      <td>405921</td>\n",
       "      <td>165298</td>\n",
       "      <td>69696</td>\n",
       "      <td>155816</td>\n",
       "      <td>225780</td>\n",
       "      <td>28</td>\n",
       "    </tr>\n",
       "  </tbody>\n",
       "</table>\n",
       "</div>"
      ],
      "text/plain": [
       "   Year     Month  BeerConsumption  AvgBeerPrice  AvgRakiPrice  \\\n",
       "0  1987   January         13621800   1338.424656       9715.74   \n",
       "1  1987  February         14346944   1314.441618       9460.31   \n",
       "2  1987     March         14912839   1267.542544       9122.77   \n",
       "3  1987     April         16129850   1241.471640       8935.13   \n",
       "4  1987       May         12140503   1183.481067       8517.76   \n",
       "\n",
       "   AvgCannedSoftDrinkPrice  AvgCannedBeerPrice  AvgDraftBeerPrice  \\\n",
       "0                  2208.12            2671.750         971.574039   \n",
       "1                  2150.07            2866.475         946.031197   \n",
       "2                  2073.36            2764.199         912.276950   \n",
       "3                  2030.71            2707.345         893.513173   \n",
       "4                  1935.85            2580.882         851.776142   \n",
       "\n",
       "   Czechoslovakia  Germany  UnitedKingdom  UnitedStates  France  Others  \\\n",
       "0             290    28056          11380         25060    9246   35135   \n",
       "1             253    29715          20630         21648   11941   38488   \n",
       "2             478    67370          30506         30386   15810   53071   \n",
       "3            1025   271147          70016         43137   94247  141639   \n",
       "4            2776   405921         165298         69696  155816  225780   \n",
       "\n",
       "   RamadanDays  \n",
       "0            0  \n",
       "1            0  \n",
       "2            0  \n",
       "3            2  \n",
       "4           28  "
      ]
     },
     "execution_count": 6,
     "metadata": {},
     "output_type": "execute_result"
    }
   ],
   "source": [
    "# Solution\n",
    "all_df = (\n",
    "    demand_price_df\n",
    "    .merge(tourist_df, on=['Year', 'Month'], how='left')\n",
    "    .merge(ramadan_days_df, on=['Year', 'Month'], how='left')\n",
    ")\n",
    "\n",
    "all_df.head()"
   ]
  },
  {
   "cell_type": "markdown",
   "id": "22cf6148-7950-4649-8ca9-3595491764bd",
   "metadata": {
    "editable": true,
    "slideshow": {
     "slide_type": ""
    },
    "tags": []
   },
   "source": [
    "* Let's also add an estimate of the monthly tourist beer consumption to this DataFrame."
   ]
  },
  {
   "cell_type": "code",
   "execution_count": null,
   "id": "cbc1856e-6558-4c46-9513-f3f6085a4e4e",
   "metadata": {
    "editable": true,
    "slideshow": {
     "slide_type": ""
    },
    "tags": []
   },
   "outputs": [],
   "source": []
  },
  {
   "cell_type": "code",
   "execution_count": 7,
   "id": "e6a631e3-6216-4895-93c1-ad92812cf451",
   "metadata": {
    "editable": true,
    "slideshow": {
     "slide_type": ""
    },
    "tags": [
     "solution"
    ]
   },
   "outputs": [
    {
     "data": {
      "text/html": [
       "<div>\n",
       "<style scoped>\n",
       "    .dataframe tbody tr th:only-of-type {\n",
       "        vertical-align: middle;\n",
       "    }\n",
       "\n",
       "    .dataframe tbody tr th {\n",
       "        vertical-align: top;\n",
       "    }\n",
       "\n",
       "    .dataframe thead th {\n",
       "        text-align: right;\n",
       "    }\n",
       "</style>\n",
       "<table border=\"1\" class=\"dataframe\">\n",
       "  <thead>\n",
       "    <tr style=\"text-align: right;\">\n",
       "      <th></th>\n",
       "      <th>Year</th>\n",
       "      <th>Month</th>\n",
       "      <th>BeerConsumption</th>\n",
       "      <th>AvgBeerPrice</th>\n",
       "      <th>AvgRakiPrice</th>\n",
       "      <th>AvgCannedSoftDrinkPrice</th>\n",
       "      <th>AvgCannedBeerPrice</th>\n",
       "      <th>AvgDraftBeerPrice</th>\n",
       "      <th>Czechoslovakia</th>\n",
       "      <th>Germany</th>\n",
       "      <th>UnitedKingdom</th>\n",
       "      <th>UnitedStates</th>\n",
       "      <th>France</th>\n",
       "      <th>Others</th>\n",
       "      <th>RamadanDays</th>\n",
       "      <th>TouristBeerConsumption</th>\n",
       "    </tr>\n",
       "  </thead>\n",
       "  <tbody>\n",
       "    <tr>\n",
       "      <th>0</th>\n",
       "      <td>1987</td>\n",
       "      <td>January</td>\n",
       "      <td>13621800</td>\n",
       "      <td>1338.424656</td>\n",
       "      <td>9715.74</td>\n",
       "      <td>2208.12</td>\n",
       "      <td>2671.750</td>\n",
       "      <td>971.574039</td>\n",
       "      <td>290</td>\n",
       "      <td>28056</td>\n",
       "      <td>11380</td>\n",
       "      <td>25060</td>\n",
       "      <td>9246</td>\n",
       "      <td>35135</td>\n",
       "      <td>0</td>\n",
       "      <td>27226.000715</td>\n",
       "    </tr>\n",
       "    <tr>\n",
       "      <th>1</th>\n",
       "      <td>1987</td>\n",
       "      <td>February</td>\n",
       "      <td>14346944</td>\n",
       "      <td>1314.441618</td>\n",
       "      <td>9460.31</td>\n",
       "      <td>2150.07</td>\n",
       "      <td>2866.475</td>\n",
       "      <td>946.031197</td>\n",
       "      <td>253</td>\n",
       "      <td>29715</td>\n",
       "      <td>20630</td>\n",
       "      <td>21648</td>\n",
       "      <td>11941</td>\n",
       "      <td>38488</td>\n",
       "      <td>0</td>\n",
       "      <td>30473.275998</td>\n",
       "    </tr>\n",
       "    <tr>\n",
       "      <th>2</th>\n",
       "      <td>1987</td>\n",
       "      <td>March</td>\n",
       "      <td>14912839</td>\n",
       "      <td>1267.542544</td>\n",
       "      <td>9122.77</td>\n",
       "      <td>2073.36</td>\n",
       "      <td>2764.199</td>\n",
       "      <td>912.276950</td>\n",
       "      <td>478</td>\n",
       "      <td>67370</td>\n",
       "      <td>30506</td>\n",
       "      <td>30386</td>\n",
       "      <td>15810</td>\n",
       "      <td>53071</td>\n",
       "      <td>0</td>\n",
       "      <td>52677.449434</td>\n",
       "    </tr>\n",
       "    <tr>\n",
       "      <th>3</th>\n",
       "      <td>1987</td>\n",
       "      <td>April</td>\n",
       "      <td>16129850</td>\n",
       "      <td>1241.471640</td>\n",
       "      <td>8935.13</td>\n",
       "      <td>2030.71</td>\n",
       "      <td>2707.345</td>\n",
       "      <td>893.513173</td>\n",
       "      <td>1025</td>\n",
       "      <td>271147</td>\n",
       "      <td>70016</td>\n",
       "      <td>43137</td>\n",
       "      <td>94247</td>\n",
       "      <td>141639</td>\n",
       "      <td>2</td>\n",
       "      <td>168507.661703</td>\n",
       "    </tr>\n",
       "    <tr>\n",
       "      <th>4</th>\n",
       "      <td>1987</td>\n",
       "      <td>May</td>\n",
       "      <td>12140503</td>\n",
       "      <td>1183.481067</td>\n",
       "      <td>8517.76</td>\n",
       "      <td>1935.85</td>\n",
       "      <td>2580.882</td>\n",
       "      <td>851.776142</td>\n",
       "      <td>2776</td>\n",
       "      <td>405921</td>\n",
       "      <td>165298</td>\n",
       "      <td>69696</td>\n",
       "      <td>155816</td>\n",
       "      <td>225780</td>\n",
       "      <td>28</td>\n",
       "      <td>274701.483979</td>\n",
       "    </tr>\n",
       "  </tbody>\n",
       "</table>\n",
       "</div>"
      ],
      "text/plain": [
       "   Year     Month  BeerConsumption  AvgBeerPrice  AvgRakiPrice  \\\n",
       "0  1987   January         13621800   1338.424656       9715.74   \n",
       "1  1987  February         14346944   1314.441618       9460.31   \n",
       "2  1987     March         14912839   1267.542544       9122.77   \n",
       "3  1987     April         16129850   1241.471640       8935.13   \n",
       "4  1987       May         12140503   1183.481067       8517.76   \n",
       "\n",
       "   AvgCannedSoftDrinkPrice  AvgCannedBeerPrice  AvgDraftBeerPrice  \\\n",
       "0                  2208.12            2671.750         971.574039   \n",
       "1                  2150.07            2866.475         946.031197   \n",
       "2                  2073.36            2764.199         912.276950   \n",
       "3                  2030.71            2707.345         893.513173   \n",
       "4                  1935.85            2580.882         851.776142   \n",
       "\n",
       "   Czechoslovakia  Germany  UnitedKingdom  UnitedStates  France  Others  \\\n",
       "0             290    28056          11380         25060    9246   35135   \n",
       "1             253    29715          20630         21648   11941   38488   \n",
       "2             478    67370          30506         30386   15810   53071   \n",
       "3            1025   271147          70016         43137   94247  141639   \n",
       "4            2776   405921         165298         69696  155816  225780   \n",
       "\n",
       "   RamadanDays  TouristBeerConsumption  \n",
       "0            0            27226.000715  \n",
       "1            0            30473.275998  \n",
       "2            0            52677.449434  \n",
       "3            2           168507.661703  \n",
       "4           28           274701.483979  "
      ]
     },
     "execution_count": 7,
     "metadata": {},
     "output_type": "execute_result"
    }
   ],
   "source": [
    "# Solution\n",
    "all_df['TouristBeerConsumption'] = (\n",
    "    all_df['Czechoslovakia'] * beer_consumption_df['AvgDailyBeerConsumptionPerCapita']['Czechoslovakia']\n",
    "    + all_df['Germany'] * beer_consumption_df['AvgDailyBeerConsumptionPerCapita']['Germany'] \n",
    "    + all_df['UnitedKingdom'] * beer_consumption_df['AvgDailyBeerConsumptionPerCapita']['UnitedKingdom']\n",
    "    + all_df['UnitedStates'] * beer_consumption_df['AvgDailyBeerConsumptionPerCapita']['UnitedStates'] \n",
    "    + all_df['France'] * beer_consumption_df['AvgDailyBeerConsumptionPerCapita']['France']\n",
    "    + all_df['Others'] * beer_consumption_df['AvgDailyBeerConsumptionPerCapita']['Others']\n",
    ")\n",
    "\n",
    "all_df.head()"
   ]
  },
  {
   "cell_type": "markdown",
   "id": "cef2ec9c-ba6a-4515-8b39-764bb50e3435",
   "metadata": {
    "editable": true,
    "slideshow": {
     "slide_type": ""
    },
    "tags": []
   },
   "source": [
    "* Finally, let's output this DataFrame to a CSV file so that we can use it with R to do some regression modeling:"
   ]
  },
  {
   "cell_type": "code",
   "execution_count": null,
   "id": "69b00a46-465a-40da-9915-8832f9695e1b",
   "metadata": {
    "editable": true,
    "slideshow": {
     "slide_type": ""
    },
    "tags": []
   },
   "outputs": [],
   "source": []
  },
  {
   "cell_type": "code",
   "execution_count": 8,
   "id": "349f176f-f486-433e-8ef4-ec884eaa52f0",
   "metadata": {
    "editable": true,
    "slideshow": {
     "slide_type": ""
    },
    "tags": [
     "solution"
    ]
   },
   "outputs": [],
   "source": [
    "# Solution\n",
    "all_df.to_csv('all.csv', index=False)"
   ]
  }
 ],
 "metadata": {
  "kernelspec": {
   "display_name": "Python 3 (ipykernel)",
   "language": "python",
   "name": "python3"
  },
  "language_info": {
   "codemirror_mode": {
    "name": "ipython",
    "version": 3
   },
   "file_extension": ".py",
   "mimetype": "text/x-python",
   "name": "python",
   "nbconvert_exporter": "python",
   "pygments_lexer": "ipython3",
   "version": "3.11.6"
  }
 },
 "nbformat": 4,
 "nbformat_minor": 5
}
