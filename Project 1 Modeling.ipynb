{
 "cells": [
  {
   "cell_type": "markdown",
   "id": "90b14294-0985-465b-b0d3-7c64ccd384f9",
   "metadata": {
    "editable": true,
    "slideshow": {
     "slide_type": ""
    },
    "tags": []
   },
   "source": [
    "**Operations Research in Action &#x25aa; Fall 2024**"
   ]
  },
  {
   "cell_type": "markdown",
   "id": "f544703b-8e98-4488-83ad-590fcacaad7f",
   "metadata": {
    "editable": true,
    "slideshow": {
     "slide_type": ""
    },
    "tags": []
   },
   "source": [
    "# Project 1 &ndash; Modeling"
   ]
  },
  {
   "cell_type": "markdown",
   "id": "a9de5f70-bddd-491d-b749-bc3a257f418d",
   "metadata": {},
   "source": [
    "## Review the available data"
   ]
  },
  {
   "cell_type": "markdown",
   "id": "faf43385-27b5-438d-a93c-4502a0371d98",
   "metadata": {},
   "source": [
    "- Recall that the purpose of this project is to forecast the monthly demand for beer based on a variety of factors."
   ]
  },
  {
   "cell_type": "markdown",
   "id": "dd441a0e-90c6-44cd-8c19-7082f90fecf9",
   "metadata": {},
   "source": [
    "* Let's refresh our memory and take a look at the data:"
   ]
  },
  {
   "cell_type": "code",
   "execution_count": 1,
   "id": "e42f7a21-779c-47b5-ab5f-caab8d93ab43",
   "metadata": {},
   "outputs": [],
   "source": [
    "import pandas as pd"
   ]
  },
  {
   "cell_type": "code",
   "execution_count": 2,
   "id": "caf1a385-2688-4c69-8575-4370aff6e76d",
   "metadata": {
    "editable": true,
    "slideshow": {
     "slide_type": ""
    },
    "tags": []
   },
   "outputs": [
    {
     "data": {
      "text/html": [
       "<div>\n",
       "<style scoped>\n",
       "    .dataframe tbody tr th:only-of-type {\n",
       "        vertical-align: middle;\n",
       "    }\n",
       "\n",
       "    .dataframe tbody tr th {\n",
       "        vertical-align: top;\n",
       "    }\n",
       "\n",
       "    .dataframe thead th {\n",
       "        text-align: right;\n",
       "    }\n",
       "</style>\n",
       "<table border=\"1\" class=\"dataframe\">\n",
       "  <thead>\n",
       "    <tr style=\"text-align: right;\">\n",
       "      <th></th>\n",
       "      <th>Year</th>\n",
       "      <th>Month</th>\n",
       "      <th>BeerConsumption</th>\n",
       "      <th>AvgBeerPrice</th>\n",
       "      <th>AvgRakiPrice</th>\n",
       "      <th>AvgCannedSoftDrinkPrice</th>\n",
       "      <th>AvgCannedBeerPrice</th>\n",
       "      <th>AvgDraftBeerPrice</th>\n",
       "    </tr>\n",
       "  </thead>\n",
       "  <tbody>\n",
       "    <tr>\n",
       "      <th>0</th>\n",
       "      <td>1987</td>\n",
       "      <td>January</td>\n",
       "      <td>13621800</td>\n",
       "      <td>1338.424656</td>\n",
       "      <td>9715.74</td>\n",
       "      <td>2208.12</td>\n",
       "      <td>2671.750</td>\n",
       "      <td>971.574039</td>\n",
       "    </tr>\n",
       "    <tr>\n",
       "      <th>1</th>\n",
       "      <td>1987</td>\n",
       "      <td>February</td>\n",
       "      <td>14346944</td>\n",
       "      <td>1314.441618</td>\n",
       "      <td>9460.31</td>\n",
       "      <td>2150.07</td>\n",
       "      <td>2866.475</td>\n",
       "      <td>946.031197</td>\n",
       "    </tr>\n",
       "    <tr>\n",
       "      <th>2</th>\n",
       "      <td>1987</td>\n",
       "      <td>March</td>\n",
       "      <td>14912839</td>\n",
       "      <td>1267.542544</td>\n",
       "      <td>9122.77</td>\n",
       "      <td>2073.36</td>\n",
       "      <td>2764.199</td>\n",
       "      <td>912.276950</td>\n",
       "    </tr>\n",
       "    <tr>\n",
       "      <th>3</th>\n",
       "      <td>1987</td>\n",
       "      <td>April</td>\n",
       "      <td>16129850</td>\n",
       "      <td>1241.471640</td>\n",
       "      <td>8935.13</td>\n",
       "      <td>2030.71</td>\n",
       "      <td>2707.345</td>\n",
       "      <td>893.513173</td>\n",
       "    </tr>\n",
       "    <tr>\n",
       "      <th>4</th>\n",
       "      <td>1987</td>\n",
       "      <td>May</td>\n",
       "      <td>12140503</td>\n",
       "      <td>1183.481067</td>\n",
       "      <td>8517.76</td>\n",
       "      <td>1935.85</td>\n",
       "      <td>2580.882</td>\n",
       "      <td>851.776142</td>\n",
       "    </tr>\n",
       "  </tbody>\n",
       "</table>\n",
       "</div>"
      ],
      "text/plain": [
       "   Year     Month  BeerConsumption  AvgBeerPrice  AvgRakiPrice   \n",
       "0  1987   January         13621800   1338.424656       9715.74  \\\n",
       "1  1987  February         14346944   1314.441618       9460.31   \n",
       "2  1987     March         14912839   1267.542544       9122.77   \n",
       "3  1987     April         16129850   1241.471640       8935.13   \n",
       "4  1987       May         12140503   1183.481067       8517.76   \n",
       "\n",
       "   AvgCannedSoftDrinkPrice  AvgCannedBeerPrice  AvgDraftBeerPrice  \n",
       "0                  2208.12            2671.750         971.574039  \n",
       "1                  2150.07            2866.475         946.031197  \n",
       "2                  2073.36            2764.199         912.276950  \n",
       "3                  2030.71            2707.345         893.513173  \n",
       "4                  1935.85            2580.882         851.776142  "
      ]
     },
     "execution_count": 2,
     "metadata": {},
     "output_type": "execute_result"
    }
   ],
   "source": [
    "demand_price_df = pd.read_excel(\n",
    "    './data/TablesA3A4.xlsx',\n",
    "    sheet_name='Table A3',\n",
    "    skiprows=3,\n",
    "    nrows=84,\n",
    "    header=None,\n",
    "    names=[\n",
    "        'Year',\n",
    "        'Month',\n",
    "        'BeerConsumption',\n",
    "        'AvgBeerPrice',\n",
    "        'AvgRakiPrice',\n",
    "        'AvgCannedSoftDrinkPrice',\n",
    "        'AvgCannedBeerPrice',\n",
    "        'AvgDraftBeerPrice'\n",
    "    ]\n",
    ")\n",
    "\n",
    "demand_price_df.head()"
   ]
  },
  {
   "cell_type": "code",
   "execution_count": 3,
   "id": "0b948577-1de2-4f09-8de4-db671e1723df",
   "metadata": {
    "editable": true,
    "slideshow": {
     "slide_type": ""
    },
    "tags": []
   },
   "outputs": [
    {
     "data": {
      "text/html": [
       "<div>\n",
       "<style scoped>\n",
       "    .dataframe tbody tr th:only-of-type {\n",
       "        vertical-align: middle;\n",
       "    }\n",
       "\n",
       "    .dataframe tbody tr th {\n",
       "        vertical-align: top;\n",
       "    }\n",
       "\n",
       "    .dataframe thead th {\n",
       "        text-align: right;\n",
       "    }\n",
       "</style>\n",
       "<table border=\"1\" class=\"dataframe\">\n",
       "  <thead>\n",
       "    <tr style=\"text-align: right;\">\n",
       "      <th></th>\n",
       "      <th>Year</th>\n",
       "      <th>Month</th>\n",
       "      <th>Czechoslovakia</th>\n",
       "      <th>Germany</th>\n",
       "      <th>UnitedKingdom</th>\n",
       "      <th>UnitedStates</th>\n",
       "      <th>France</th>\n",
       "      <th>Others</th>\n",
       "    </tr>\n",
       "  </thead>\n",
       "  <tbody>\n",
       "    <tr>\n",
       "      <th>0</th>\n",
       "      <td>1987</td>\n",
       "      <td>January</td>\n",
       "      <td>290</td>\n",
       "      <td>28056</td>\n",
       "      <td>11380</td>\n",
       "      <td>25060</td>\n",
       "      <td>9246</td>\n",
       "      <td>35135</td>\n",
       "    </tr>\n",
       "    <tr>\n",
       "      <th>1</th>\n",
       "      <td>1987</td>\n",
       "      <td>February</td>\n",
       "      <td>253</td>\n",
       "      <td>29715</td>\n",
       "      <td>20630</td>\n",
       "      <td>21648</td>\n",
       "      <td>11941</td>\n",
       "      <td>38488</td>\n",
       "    </tr>\n",
       "    <tr>\n",
       "      <th>2</th>\n",
       "      <td>1987</td>\n",
       "      <td>March</td>\n",
       "      <td>478</td>\n",
       "      <td>67370</td>\n",
       "      <td>30506</td>\n",
       "      <td>30386</td>\n",
       "      <td>15810</td>\n",
       "      <td>53071</td>\n",
       "    </tr>\n",
       "    <tr>\n",
       "      <th>3</th>\n",
       "      <td>1987</td>\n",
       "      <td>April</td>\n",
       "      <td>1025</td>\n",
       "      <td>271147</td>\n",
       "      <td>70016</td>\n",
       "      <td>43137</td>\n",
       "      <td>94247</td>\n",
       "      <td>141639</td>\n",
       "    </tr>\n",
       "    <tr>\n",
       "      <th>4</th>\n",
       "      <td>1987</td>\n",
       "      <td>May</td>\n",
       "      <td>2776</td>\n",
       "      <td>405921</td>\n",
       "      <td>165298</td>\n",
       "      <td>69696</td>\n",
       "      <td>155816</td>\n",
       "      <td>225780</td>\n",
       "    </tr>\n",
       "  </tbody>\n",
       "</table>\n",
       "</div>"
      ],
      "text/plain": [
       "   Year     Month  Czechoslovakia  Germany  UnitedKingdom  UnitedStates   \n",
       "0  1987   January             290    28056          11380         25060  \\\n",
       "1  1987  February             253    29715          20630         21648   \n",
       "2  1987     March             478    67370          30506         30386   \n",
       "3  1987     April            1025   271147          70016         43137   \n",
       "4  1987       May            2776   405921         165298         69696   \n",
       "\n",
       "   France  Others  \n",
       "0    9246   35135  \n",
       "1   11941   38488  \n",
       "2   15810   53071  \n",
       "3   94247  141639  \n",
       "4  155816  225780  "
      ]
     },
     "execution_count": 3,
     "metadata": {},
     "output_type": "execute_result"
    }
   ],
   "source": [
    "tourist_df = pd.read_excel(\n",
    "    './data/TablesA3A4.xlsx',\n",
    "    sheet_name='Table A4',\n",
    "    skiprows=3,\n",
    "    header=None,\n",
    "    names=[\n",
    "        'Year',\n",
    "        'Month',\n",
    "        'Czechoslovakia',\n",
    "        'Germany',\n",
    "        'UnitedKingdom',\n",
    "        'UnitedStates',\n",
    "        'France',\n",
    "        'Others'\n",
    "    ]\n",
    ")\n",
    "\n",
    "tourist_df.head()"
   ]
  },
  {
   "cell_type": "code",
   "execution_count": 4,
   "id": "3583d149-bd71-4b17-b061-f7a4d8dd2870",
   "metadata": {},
   "outputs": [
    {
     "data": {
      "text/html": [
       "<div>\n",
       "<style scoped>\n",
       "    .dataframe tbody tr th:only-of-type {\n",
       "        vertical-align: middle;\n",
       "    }\n",
       "\n",
       "    .dataframe tbody tr th {\n",
       "        vertical-align: top;\n",
       "    }\n",
       "\n",
       "    .dataframe thead th {\n",
       "        text-align: right;\n",
       "    }\n",
       "</style>\n",
       "<table border=\"1\" class=\"dataframe\">\n",
       "  <thead>\n",
       "    <tr style=\"text-align: right;\">\n",
       "      <th></th>\n",
       "      <th>Year</th>\n",
       "      <th>Month</th>\n",
       "      <th>RamadanDays</th>\n",
       "    </tr>\n",
       "  </thead>\n",
       "  <tbody>\n",
       "    <tr>\n",
       "      <th>0</th>\n",
       "      <td>1987</td>\n",
       "      <td>January</td>\n",
       "      <td>0</td>\n",
       "    </tr>\n",
       "    <tr>\n",
       "      <th>1</th>\n",
       "      <td>1987</td>\n",
       "      <td>February</td>\n",
       "      <td>0</td>\n",
       "    </tr>\n",
       "    <tr>\n",
       "      <th>2</th>\n",
       "      <td>1987</td>\n",
       "      <td>March</td>\n",
       "      <td>0</td>\n",
       "    </tr>\n",
       "    <tr>\n",
       "      <th>3</th>\n",
       "      <td>1987</td>\n",
       "      <td>April</td>\n",
       "      <td>2</td>\n",
       "    </tr>\n",
       "    <tr>\n",
       "      <th>4</th>\n",
       "      <td>1987</td>\n",
       "      <td>May</td>\n",
       "      <td>28</td>\n",
       "    </tr>\n",
       "  </tbody>\n",
       "</table>\n",
       "</div>"
      ],
      "text/plain": [
       "   Year     Month  RamadanDays\n",
       "0  1987   January            0\n",
       "1  1987  February            0\n",
       "2  1987     March            0\n",
       "3  1987     April            2\n",
       "4  1987       May           28"
      ]
     },
     "execution_count": 4,
     "metadata": {},
     "output_type": "execute_result"
    }
   ],
   "source": [
    "ramadan_days_df = pd.read_excel(\n",
    "    './data/FromCase.xlsx',\n",
    "    sheet_name='RamadanDays'\n",
    ")\n",
    "\n",
    "ramadan_days_df.head()"
   ]
  },
  {
   "cell_type": "code",
   "execution_count": 5,
   "id": "03b8b7d9-d571-45f9-9241-fdc0dfa0d813",
   "metadata": {},
   "outputs": [
    {
     "data": {
      "text/html": [
       "<div>\n",
       "<style scoped>\n",
       "    .dataframe tbody tr th:only-of-type {\n",
       "        vertical-align: middle;\n",
       "    }\n",
       "\n",
       "    .dataframe tbody tr th {\n",
       "        vertical-align: top;\n",
       "    }\n",
       "\n",
       "    .dataframe thead th {\n",
       "        text-align: right;\n",
       "    }\n",
       "</style>\n",
       "<table border=\"1\" class=\"dataframe\">\n",
       "  <thead>\n",
       "    <tr style=\"text-align: right;\">\n",
       "      <th></th>\n",
       "      <th>AvgDailyBeerConsumptionPerCapita</th>\n",
       "    </tr>\n",
       "    <tr>\n",
       "      <th>Country</th>\n",
       "      <th></th>\n",
       "    </tr>\n",
       "  </thead>\n",
       "  <tbody>\n",
       "    <tr>\n",
       "      <th>Czechoslovakia</th>\n",
       "      <td>0.446575</td>\n",
       "    </tr>\n",
       "    <tr>\n",
       "      <th>Germany</th>\n",
       "      <td>0.378082</td>\n",
       "    </tr>\n",
       "    <tr>\n",
       "      <th>UnitedKingdom</th>\n",
       "      <td>0.273973</td>\n",
       "    </tr>\n",
       "    <tr>\n",
       "      <th>UnitedStates</th>\n",
       "      <td>0.235616</td>\n",
       "    </tr>\n",
       "    <tr>\n",
       "      <th>Others</th>\n",
       "      <td>0.184395</td>\n",
       "    </tr>\n",
       "  </tbody>\n",
       "</table>\n",
       "</div>"
      ],
      "text/plain": [
       "                AvgDailyBeerConsumptionPerCapita\n",
       "Country                                         \n",
       "Czechoslovakia                          0.446575\n",
       "Germany                                 0.378082\n",
       "UnitedKingdom                           0.273973\n",
       "UnitedStates                            0.235616\n",
       "Others                                  0.184395"
      ]
     },
     "execution_count": 5,
     "metadata": {},
     "output_type": "execute_result"
    }
   ],
   "source": [
    "beer_consumption_df = pd.read_excel(\n",
    "    './data/FromCase.xlsx',\n",
    "    sheet_name='DailyBeerConsumption',\n",
    "    index_col='Country'\n",
    ")\n",
    "\n",
    "beer_consumption_df.head()"
   ]
  },
  {
   "cell_type": "markdown",
   "id": "b2465e03-7400-492d-af58-cc2ec700a003",
   "metadata": {},
   "source": [
    "## Brainstorming a linear regression model"
   ]
  },
  {
   "cell_type": "markdown",
   "id": "14f46d62-7990-40be-a912-d623e6e51d65",
   "metadata": {},
   "source": [
    "- As we discussed earlier, we can use __linear regression__ to forecast monthly beer demand.\n",
    "\n",
    "- Recall the linear regression model:\n",
    "\n",
    "$$Y = \\beta_0 + \\beta_1 X_1 + \\dots + \\beta_k X_k + \\varepsilon \\qquad \\varepsilon \\sim \\text{iid } N(0, \\sigma_{\\varepsilon}^2)$$\n",
    "\n",
    "- $Y$ is the __response variable__, of the variable that measures the outcome of interest.\n",
    "\n",
    "- $X_1, \\dots, X_k$ are the __explanatory variables__, the variables whose relationship to the response variable is being studied. "
   ]
  },
  {
   "cell_type": "markdown",
   "id": "3dc9b067-3a5c-49ff-9a28-433b9dd5cd06",
   "metadata": {},
   "source": [
    "* What should we use as the response variable?"
   ]
  },
  {
   "cell_type": "markdown",
   "id": "b2d6ccfc-94a0-4273-9b90-c73afefebb2c",
   "metadata": {},
   "source": [
    "_Write your notes here. Double-click to edit._"
   ]
  },
  {
   "cell_type": "markdown",
   "id": "7324c956-1396-4427-9310-360dcaf4e95e",
   "metadata": {
    "editable": true,
    "slideshow": {
     "slide_type": ""
    },
    "tags": [
     "solution"
    ]
   },
   "source": [
    "_Solution._ We would ideally use the monthly beer demand as the response variable, since that is what we want to predict. However, we don't have that data. We can use monthly beer consumption as a proxy instead, as long as we keep in mind that we've made the assumption that consumption is roughly equal to demand."
   ]
  },
  {
   "cell_type": "markdown",
   "id": "ad74a4c7-e018-4fe2-a233-80ea066c2df0",
   "metadata": {},
   "source": [
    "* What should we use as the explanatory variables? "
   ]
  },
  {
   "cell_type": "markdown",
   "id": "fa3e1364-b365-4527-88be-e72adb63b7d8",
   "metadata": {},
   "source": [
    "_Write your notes here. Double-click to edit._"
   ]
  },
  {
   "cell_type": "markdown",
   "id": "89e6a7ec-1369-4076-995d-890106e91060",
   "metadata": {
    "editable": true,
    "slideshow": {
     "slide_type": ""
    },
    "tags": [
     "solution"
    ]
   },
   "source": [
    "_Solution._ There are a number of variables that might influence monthly beer demand: \n",
    "\n",
    "- average beer price \n",
    "- average Raki price \n",
    "- average canned soft drink price \n",
    "- average canned beer price \n",
    "- average draft beer price \n",
    "- tourist beer consumption\n",
    "- year (to control for long-term effects)\n",
    "- month (to control for seasonal effects)\n",
    "- number of Ramadan days in the month"
   ]
  },
  {
   "cell_type": "markdown",
   "id": "b0f8ba11-f04e-4c63-b31d-4b009b7b7dfd",
   "metadata": {},
   "source": [
    "## Data wrangling"
   ]
  },
  {
   "cell_type": "markdown",
   "id": "2b4a3ced-697b-4450-81be-ceb2b2e3350b",
   "metadata": {},
   "source": [
    "* To run a linear regression model with all of these variables, we need to create a new single data frame that contains all of them.\n",
    "\n",
    "* To do this, we'll need to do some basic __data wrangling__."
   ]
  },
  {
   "cell_type": "markdown",
   "id": "fb710de6-fff8-4dde-aae8-5670affb721c",
   "metadata": {},
   "source": [
    "* First, let's create a series with the average daily beer consumption per capita for the different tourist countries of interest."
   ]
  },
  {
   "cell_type": "code",
   "execution_count": null,
   "id": "b3e11be3-f77f-436a-abdb-cd64dfc1dfb1",
   "metadata": {},
   "outputs": [],
   "source": []
  },
  {
   "cell_type": "code",
   "execution_count": 6,
   "id": "61e48900-8a31-49f6-a0ef-a33cd07e1ec8",
   "metadata": {
    "editable": true,
    "slideshow": {
     "slide_type": ""
    },
    "tags": [
     "solution"
    ]
   },
   "outputs": [
    {
     "data": {
      "text/plain": [
       "Country\n",
       "Czechoslovakia    0.446575\n",
       "Germany           0.378082\n",
       "UnitedKingdom     0.273973\n",
       "UnitedStates      0.235616\n",
       "Others            0.184395\n",
       "France            0.106849\n",
       "Name: AvgDailyBeerConsumptionPerCapita, dtype: float64"
      ]
     },
     "execution_count": 6,
     "metadata": {},
     "output_type": "execute_result"
    }
   ],
   "source": [
    "# Solution\n",
    "avg_daily_beer_consumption_pc = beer_consumption_df['AvgDailyBeerConsumptionPerCapita']\n",
    "\n",
    "avg_daily_beer_consumption_pc"
   ]
  },
  {
   "cell_type": "markdown",
   "id": "bb1db117-9a28-4a32-966d-4b13bc53e3eb",
   "metadata": {
    "editable": true,
    "slideshow": {
     "slide_type": ""
    },
    "tags": []
   },
   "source": [
    "* Next, let's merge all the tables together, matching rows based on `Year` and `Month`.\n",
    "\n",
    "* We can accomplish this using the `.merge()`  method of a Pandas DataFrame.\n",
    "\n",
    "* [Here is the documentation for `.merge()`](https://pandas.pydata.org/docs/reference/api/pandas.DataFrame.merge.html).\n",
    "\n",
    "* While we're at it, let's compute an estimate of the monthly tourist beer consumption."
   ]
  },
  {
   "cell_type": "code",
   "execution_count": null,
   "id": "743de242-8199-44d5-bade-51b7b4a0a0de",
   "metadata": {},
   "outputs": [],
   "source": []
  },
  {
   "cell_type": "code",
   "execution_count": 7,
   "id": "88f8117e-596f-46a6-bd05-9f52edc6d876",
   "metadata": {
    "editable": true,
    "slideshow": {
     "slide_type": ""
    },
    "tags": [
     "solution"
    ]
   },
   "outputs": [
    {
     "data": {
      "text/html": [
       "<div>\n",
       "<style scoped>\n",
       "    .dataframe tbody tr th:only-of-type {\n",
       "        vertical-align: middle;\n",
       "    }\n",
       "\n",
       "    .dataframe tbody tr th {\n",
       "        vertical-align: top;\n",
       "    }\n",
       "\n",
       "    .dataframe thead th {\n",
       "        text-align: right;\n",
       "    }\n",
       "</style>\n",
       "<table border=\"1\" class=\"dataframe\">\n",
       "  <thead>\n",
       "    <tr style=\"text-align: right;\">\n",
       "      <th></th>\n",
       "      <th>Year</th>\n",
       "      <th>Month</th>\n",
       "      <th>BeerConsumption</th>\n",
       "      <th>AvgBeerPrice</th>\n",
       "      <th>AvgRakiPrice</th>\n",
       "      <th>AvgCannedSoftDrinkPrice</th>\n",
       "      <th>AvgCannedBeerPrice</th>\n",
       "      <th>AvgDraftBeerPrice</th>\n",
       "      <th>Czechoslovakia</th>\n",
       "      <th>Germany</th>\n",
       "      <th>UnitedKingdom</th>\n",
       "      <th>UnitedStates</th>\n",
       "      <th>France</th>\n",
       "      <th>Others</th>\n",
       "      <th>RamadanDays</th>\n",
       "      <th>TouristBeerConsumption</th>\n",
       "    </tr>\n",
       "  </thead>\n",
       "  <tbody>\n",
       "    <tr>\n",
       "      <th>0</th>\n",
       "      <td>1987</td>\n",
       "      <td>January</td>\n",
       "      <td>13621800</td>\n",
       "      <td>1338.424656</td>\n",
       "      <td>9715.74</td>\n",
       "      <td>2208.12</td>\n",
       "      <td>2671.750</td>\n",
       "      <td>971.574039</td>\n",
       "      <td>290</td>\n",
       "      <td>28056</td>\n",
       "      <td>11380</td>\n",
       "      <td>25060</td>\n",
       "      <td>9246</td>\n",
       "      <td>35135</td>\n",
       "      <td>0</td>\n",
       "      <td>27226.000715</td>\n",
       "    </tr>\n",
       "    <tr>\n",
       "      <th>1</th>\n",
       "      <td>1987</td>\n",
       "      <td>February</td>\n",
       "      <td>14346944</td>\n",
       "      <td>1314.441618</td>\n",
       "      <td>9460.31</td>\n",
       "      <td>2150.07</td>\n",
       "      <td>2866.475</td>\n",
       "      <td>946.031197</td>\n",
       "      <td>253</td>\n",
       "      <td>29715</td>\n",
       "      <td>20630</td>\n",
       "      <td>21648</td>\n",
       "      <td>11941</td>\n",
       "      <td>38488</td>\n",
       "      <td>0</td>\n",
       "      <td>30473.275998</td>\n",
       "    </tr>\n",
       "    <tr>\n",
       "      <th>2</th>\n",
       "      <td>1987</td>\n",
       "      <td>March</td>\n",
       "      <td>14912839</td>\n",
       "      <td>1267.542544</td>\n",
       "      <td>9122.77</td>\n",
       "      <td>2073.36</td>\n",
       "      <td>2764.199</td>\n",
       "      <td>912.276950</td>\n",
       "      <td>478</td>\n",
       "      <td>67370</td>\n",
       "      <td>30506</td>\n",
       "      <td>30386</td>\n",
       "      <td>15810</td>\n",
       "      <td>53071</td>\n",
       "      <td>0</td>\n",
       "      <td>52677.449434</td>\n",
       "    </tr>\n",
       "    <tr>\n",
       "      <th>3</th>\n",
       "      <td>1987</td>\n",
       "      <td>April</td>\n",
       "      <td>16129850</td>\n",
       "      <td>1241.471640</td>\n",
       "      <td>8935.13</td>\n",
       "      <td>2030.71</td>\n",
       "      <td>2707.345</td>\n",
       "      <td>893.513173</td>\n",
       "      <td>1025</td>\n",
       "      <td>271147</td>\n",
       "      <td>70016</td>\n",
       "      <td>43137</td>\n",
       "      <td>94247</td>\n",
       "      <td>141639</td>\n",
       "      <td>2</td>\n",
       "      <td>168507.661703</td>\n",
       "    </tr>\n",
       "    <tr>\n",
       "      <th>4</th>\n",
       "      <td>1987</td>\n",
       "      <td>May</td>\n",
       "      <td>12140503</td>\n",
       "      <td>1183.481067</td>\n",
       "      <td>8517.76</td>\n",
       "      <td>1935.85</td>\n",
       "      <td>2580.882</td>\n",
       "      <td>851.776142</td>\n",
       "      <td>2776</td>\n",
       "      <td>405921</td>\n",
       "      <td>165298</td>\n",
       "      <td>69696</td>\n",
       "      <td>155816</td>\n",
       "      <td>225780</td>\n",
       "      <td>28</td>\n",
       "      <td>274701.483979</td>\n",
       "    </tr>\n",
       "  </tbody>\n",
       "</table>\n",
       "</div>"
      ],
      "text/plain": [
       "   Year     Month  BeerConsumption  AvgBeerPrice  AvgRakiPrice   \n",
       "0  1987   January         13621800   1338.424656       9715.74  \\\n",
       "1  1987  February         14346944   1314.441618       9460.31   \n",
       "2  1987     March         14912839   1267.542544       9122.77   \n",
       "3  1987     April         16129850   1241.471640       8935.13   \n",
       "4  1987       May         12140503   1183.481067       8517.76   \n",
       "\n",
       "   AvgCannedSoftDrinkPrice  AvgCannedBeerPrice  AvgDraftBeerPrice   \n",
       "0                  2208.12            2671.750         971.574039  \\\n",
       "1                  2150.07            2866.475         946.031197   \n",
       "2                  2073.36            2764.199         912.276950   \n",
       "3                  2030.71            2707.345         893.513173   \n",
       "4                  1935.85            2580.882         851.776142   \n",
       "\n",
       "   Czechoslovakia  Germany  UnitedKingdom  UnitedStates  France  Others   \n",
       "0             290    28056          11380         25060    9246   35135  \\\n",
       "1             253    29715          20630         21648   11941   38488   \n",
       "2             478    67370          30506         30386   15810   53071   \n",
       "3            1025   271147          70016         43137   94247  141639   \n",
       "4            2776   405921         165298         69696  155816  225780   \n",
       "\n",
       "   RamadanDays  TouristBeerConsumption  \n",
       "0            0            27226.000715  \n",
       "1            0            30473.275998  \n",
       "2            0            52677.449434  \n",
       "3            2           168507.661703  \n",
       "4           28           274701.483979  "
      ]
     },
     "execution_count": 7,
     "metadata": {},
     "output_type": "execute_result"
    }
   ],
   "source": [
    "# Solution\n",
    "all_df = (\n",
    "    demand_price_df\n",
    "    .merge(tourist_df, on=['Year', 'Month'], how='left')\n",
    "    .merge(ramadan_days_df, on=['Year', 'Month'], how='left')\n",
    "    .assign(\n",
    "        TouristBeerConsumption=lambda x: \n",
    "            x['Czechoslovakia'] * avg_daily_beer_consumption_pc['Czechoslovakia']\n",
    "            + x['Germany'] * avg_daily_beer_consumption_pc['Germany'] \n",
    "            + x['UnitedKingdom'] * avg_daily_beer_consumption_pc['UnitedKingdom']\n",
    "            + x['UnitedStates'] * avg_daily_beer_consumption_pc['UnitedStates'] \n",
    "            + x['France'] * avg_daily_beer_consumption_pc['France']\n",
    "            + x['Others'] * avg_daily_beer_consumption_pc['Others']\n",
    "    )\n",
    ")\n",
    "\n",
    "all_df.head()"
   ]
  },
  {
   "cell_type": "markdown",
   "id": "dd1981a7-de23-43e7-ab5d-17929b18db14",
   "metadata": {},
   "source": [
    "## Regression model building and analysis "
   ]
  },
  {
   "cell_type": "markdown",
   "id": "07fa2f43-ae8b-48fc-bace-b121b4daa8d8",
   "metadata": {},
   "source": [
    "* We can run R code in a Python Jupyter notebook using the [rpy2](https://rpy2.github.io/) package.\n",
    "\n",
    "* We import rpy2 and activate the Jupyter interface like this:"
   ]
  },
  {
   "cell_type": "code",
   "execution_count": 8,
   "id": "2fb9b3ab-4eb2-4254-b67b-f7675eac9dcd",
   "metadata": {},
   "outputs": [],
   "source": [
    "import rpy2\n",
    "%load_ext rpy2.ipython"
   ]
  },
  {
   "cell_type": "markdown",
   "id": "8cee59ff-e67b-4ed2-89fa-20391c60affd",
   "metadata": {
    "editable": true,
    "slideshow": {
     "slide_type": ""
    },
    "tags": []
   },
   "source": [
    "* To run R code in a cell, start the cell with `%%R`.\n",
    "\n",
    "* For example, to load the [olsrr](https://olsrr.rsquaredacademy.com/) library (which we will use shortly) and set the display width to 100, we can do this: "
   ]
  },
  {
   "cell_type": "code",
   "execution_count": 9,
   "id": "6adad2e9-b48f-4f7f-9713-d36dd6b48a20",
   "metadata": {
    "editable": true,
    "slideshow": {
     "slide_type": ""
    },
    "tags": []
   },
   "outputs": [
    {
     "data": {
      "text/plain": [
       "\n",
       "Attaching package: ‘olsrr’\n",
       "\n",
       "The following object is masked from ‘package:datasets’:\n",
       "\n",
       "    rivers\n",
       "\n"
      ]
     },
     "metadata": {},
     "output_type": "display_data"
    }
   ],
   "source": [
    "%%R \n",
    "library(olsrr)\n",
    "options(width=100)"
   ]
  },
  {
   "cell_type": "markdown",
   "id": "78691feb-372d-4327-8a45-f95a093f31e2",
   "metadata": {},
   "source": [
    "### Model 1\n",
    "\n",
    "* Let's start by fitting a linear regression model that includes all the variables we discussed above.\n",
    "\n",
    "* To \"push\" a Pandas DataFrame into the R workspace, we pass the `-i <name of DataFrame>` option to `%%R`.\n",
    "\n",
    "* Recall that we can explicitly set the order of a categorical variable (\"factor\" in R parlance) with the `factor()` function in R."
   ]
  },
  {
   "cell_type": "code",
   "execution_count": null,
   "id": "16d3dab8-5d12-4b34-9a1c-1d6bbd32cc94",
   "metadata": {},
   "outputs": [],
   "source": []
  },
  {
   "cell_type": "code",
   "execution_count": 10,
   "id": "7674624e-fea9-4041-bb9a-5b815947a8b6",
   "metadata": {
    "editable": true,
    "slideshow": {
     "slide_type": ""
    },
    "tags": [
     "solution"
    ]
   },
   "outputs": [
    {
     "name": "stdout",
     "output_type": "stream",
     "text": [
      "\n",
      "Call:\n",
      "lm(formula = BeerConsumption ~ AvgBeerPrice + AvgRakiPrice + \n",
      "    AvgCannedSoftDrinkPrice + AvgCannedBeerPrice + AvgDraftBeerPrice + \n",
      "    TouristBeerConsumption + RamadanDays + Year + Month, data = all_df)\n",
      "\n",
      "Residuals:\n",
      "     Min       1Q   Median       3Q      Max \n",
      "-6441051 -1814349  -342782  2104359  6623692 \n",
      "\n",
      "Coefficients:\n",
      "                          Estimate Std. Error t value Pr(>|t|)    \n",
      "(Intercept)             -6.457e+09  9.950e+08  -6.490 1.45e-08 ***\n",
      "AvgBeerPrice            -2.457e+04  8.028e+03  -3.061 0.003227 ** \n",
      "AvgRakiPrice             1.263e+02  5.304e+02   0.238 0.812504    \n",
      "AvgCannedSoftDrinkPrice  1.622e+03  4.474e+03   0.362 0.718224    \n",
      "AvgCannedBeerPrice      -1.535e+03  4.528e+03  -0.339 0.735767    \n",
      "AvgDraftBeerPrice        1.263e+04  1.004e+04   1.258 0.212896    \n",
      "TouristBeerConsumption   2.205e+01  6.198e+00   3.558 0.000709 ***\n",
      "RamadanDays             -3.188e+05  7.827e+04  -4.073 0.000130 ***\n",
      "Year                     3.264e+06  4.998e+05   6.531 1.23e-08 ***\n",
      "MonthFebruary           -9.673e+04  1.793e+06  -0.054 0.957140    \n",
      "MonthMarch               5.261e+06  2.110e+06   2.493 0.015257 *  \n",
      "MonthApril               2.111e+06  2.589e+06   0.815 0.417961    \n",
      "MonthMay                 6.914e+06  3.258e+06   2.123 0.037668 *  \n",
      "MonthJune                1.243e+07  3.059e+06   4.062 0.000135 ***\n",
      "MonthJuly                1.949e+07  3.272e+06   5.958 1.19e-07 ***\n",
      "MonthAugust              2.077e+07  3.523e+06   5.895 1.53e-07 ***\n",
      "MonthSeptember           1.053e+07  3.472e+06   3.032 0.003501 ** \n",
      "MonthOctober             6.696e+06  2.830e+06   2.366 0.021033 *  \n",
      "MonthNovember            8.471e+06  1.864e+06   4.545 2.50e-05 ***\n",
      "MonthDecember            7.774e+06  1.775e+06   4.379 4.51e-05 ***\n",
      "---\n",
      "Signif. codes:  0 ‘***’ 0.001 ‘**’ 0.01 ‘*’ 0.05 ‘.’ 0.1 ‘ ’ 1\n",
      "\n",
      "Residual standard error: 3289000 on 64 degrees of freedom\n",
      "Multiple R-squared:  0.9569,\tAdjusted R-squared:  0.9442 \n",
      "F-statistic: 74.87 on 19 and 64 DF,  p-value: < 2.2e-16\n",
      "\n"
     ]
    }
   ],
   "source": [
    "%%R -i all_df \n",
    "# Solution\n",
    "all_df$Month <- factor(\n",
    "    all_df$Month, \n",
    "    levels = c('January', 'February', 'March', 'April', 'May', 'June', \n",
    "               'July', 'August', 'September', 'October', 'November', 'December')\n",
    ") \n",
    "\n",
    "fit <- lm(\n",
    "    BeerConsumption\n",
    "    ~\n",
    "    AvgBeerPrice\n",
    "    + AvgRakiPrice\n",
    "    + AvgCannedSoftDrinkPrice\n",
    "    + AvgCannedBeerPrice\n",
    "    + AvgDraftBeerPrice\n",
    "    + TouristBeerConsumption\n",
    "    + RamadanDays\n",
    "    + Year\n",
    "    + Month,\n",
    "    data = all_df \n",
    ")\n",
    "\n",
    "summary(fit)"
   ]
  },
  {
   "cell_type": "markdown",
   "id": "41fcb399-c075-4034-a394-388bc0336656",
   "metadata": {
    "editable": true,
    "slideshow": {
     "slide_type": ""
    },
    "tags": []
   },
   "source": [
    "### Best subsets regression\n",
    "\n",
    "- We see that some of the predictors in Model 1 are not statistically significant.\n",
    "\n",
    "- Recall that removing or adding a predictor to a linear regression model will affect the statistical significance of the other predictors.\n",
    "\n",
    "- How do we know which predictors to keep?\n",
    "\n",
    "- __Best subsets regression__ chooses predictors by comparing _all possible subsets of predictors_ according to some metric.\n",
    "\n",
    "- There are a number of metrics that could be used to compare the fit of different regression models.\n",
    "\n",
    "- We will use __Akaike's information criterion (AIC)__, which is popular among practicing statisticians.\n",
    "\n",
    "- Lower values of AIC $\\leftrightarrow$ model is more preferred.\n",
    "\n",
    "- We can perform best subsets regression using `ols_step_best_subset()` from the olsrr package, like this:"
   ]
  },
  {
   "cell_type": "code",
   "execution_count": null,
   "id": "7daa9d3f-605e-450a-8e5a-33a780aa3833",
   "metadata": {},
   "outputs": [],
   "source": []
  },
  {
   "cell_type": "code",
   "execution_count": 11,
   "id": "e7a54f7f-dcc3-442a-8152-82b74aa2da3b",
   "metadata": {
    "editable": true,
    "slideshow": {
     "slide_type": ""
    },
    "tags": [
     "solution"
    ]
   },
   "outputs": [
    {
     "name": "stdout",
     "output_type": "stream",
     "text": [
      "                                                              Best Subsets Regression                                                              \n",
      "---------------------------------------------------------------------------------------------------------------------------------------------------\n",
      "Model Index    Predictors\n",
      "---------------------------------------------------------------------------------------------------------------------------------------------------\n",
      "     1         TouristBeerConsumption                                                                                                               \n",
      "     2         Year Month                                                                                                                           \n",
      "     3         TouristBeerConsumption Year Month                                                                                                    \n",
      "     4         AvgBeerPrice TouristBeerConsumption Year Month                                                                                       \n",
      "     5         AvgBeerPrice TouristBeerConsumption RamadanDays Year Month                                                                           \n",
      "     6         AvgBeerPrice AvgDraftBeerPrice TouristBeerConsumption RamadanDays Year Month                                                         \n",
      "     7         AvgBeerPrice AvgRakiPrice AvgDraftBeerPrice TouristBeerConsumption RamadanDays Year Month                                            \n",
      "     8         AvgBeerPrice AvgCannedSoftDrinkPrice AvgCannedBeerPrice AvgDraftBeerPrice TouristBeerConsumption RamadanDays Year Month              \n",
      "     9         AvgBeerPrice AvgRakiPrice AvgCannedSoftDrinkPrice AvgCannedBeerPrice AvgDraftBeerPrice TouristBeerConsumption RamadanDays Year Month \n",
      "---------------------------------------------------------------------------------------------------------------------------------------------------\n",
      "\n",
      "                                                                Subsets Regression Summary                                                                 \n",
      "-----------------------------------------------------------------------------------------------------------------------------------------------------------\n",
      "                       Adj.        Pred                                                                                                                     \n",
      "Model    R-Square    R-Square    R-Square      C(p)         AIC         SBIC          SBC           MSEP            FPE                HSP            APC  \n",
      "-----------------------------------------------------------------------------------------------------------------------------------------------------------\n",
      "  1        0.6532      0.6490      0.6368    435.5016    2917.8237    2674.6925    2925.1161    5.713521e+15     6.96371e+13    839723885679.1086    0.3637 \n",
      "  2        0.9117      0.8967      0.8742     73.3214    2824.9543    2564.1509    2858.9858    1.473684e+15    2.072634e+13    250145475355.8074    0.0949 \n",
      "  3        0.9378      0.9263      0.9087     36.4304    2797.4542    2538.3262    2833.9165    1.050381e+15    1.496669e+13    180840318771.0039    0.0684 \n",
      "  4        0.9444      0.9331      0.9145     28.6998    2790.1102    2531.8852    2829.0032    9.518509e+14    1.373952e+13    166251793063.7295    0.0627 \n",
      "  5        0.9553      0.9454      0.9313     14.5224    2773.8251    2518.4582    2815.1490    7.755968e+14    1.134038e+13    137459131074.4240    0.0516 \n",
      "  6        0.9568      0.9465      0.9315     14.2580    2772.9160    2518.6467    2816.6707    7.590532e+14    1.124138e+13          1.36535e+11    0.0511 \n",
      "  7        0.9569      0.9457      0.9292     16.1397    2774.7613    2521.1421    2820.9468    7.677589e+14    1.151588e+13    140193353209.0085    0.0522 \n",
      "  8        0.9569      0.9450      0.9268     18.0567    2776.6525    2523.6810    2825.2688    7.771268e+14    1.180485e+13    144087084588.0869    0.0534 \n",
      "  9        0.9569      0.9442      0.9242     20.0000    2778.5781    2526.2511    2829.6252    7.870747e+14    1.210749e+13    148211708148.8127    0.0547 \n",
      "-----------------------------------------------------------------------------------------------------------------------------------------------------------\n",
      "AIC: Akaike Information Criteria \n",
      " SBIC: Sawa's Bayesian Information Criteria \n",
      " SBC: Schwarz Bayesian Criteria \n",
      " MSEP: Estimated error of prediction, assuming multivariate normality \n",
      " FPE: Final Prediction Error \n",
      " HSP: Hocking's Sp \n",
      " APC: Amemiya Prediction Criteria \n",
      "\n"
     ]
    }
   ],
   "source": [
    "%%R\n",
    "# Solution\n",
    "ols_step_best_subset(fit, metric='aic')"
   ]
  },
  {
   "cell_type": "markdown",
   "id": "58350a49-cc9b-4b3e-a567-0a64de442ab2",
   "metadata": {},
   "source": [
    "* According to the AIC, which model gives us the best fit?"
   ]
  },
  {
   "cell_type": "markdown",
   "id": "b89e9853-5932-4395-96b8-5883d5b6e8ac",
   "metadata": {},
   "source": [
    "_Write your notes here. Double-click to edit._"
   ]
  },
  {
   "cell_type": "markdown",
   "id": "5efbc540-aa4b-47a4-9231-eb18c67d5322",
   "metadata": {
    "editable": true,
    "slideshow": {
     "slide_type": ""
    },
    "tags": [
     "solution"
    ]
   },
   "source": [
    "_Solution._ Model 6 has the lowest AIC."
   ]
  },
  {
   "cell_type": "markdown",
   "id": "8d5a3580-3df6-4310-ab25-b18f0d5f7a61",
   "metadata": {},
   "source": [
    "### Model 2\n",
    "\n",
    "* Let's fit the best model according to AIC:\n"
   ]
  },
  {
   "cell_type": "code",
   "execution_count": null,
   "id": "0513abee-3818-4286-915f-cfbe125c5217",
   "metadata": {},
   "outputs": [],
   "source": []
  },
  {
   "cell_type": "code",
   "execution_count": 12,
   "id": "9d49d4cb-314a-46d5-9da6-7938aa616e6b",
   "metadata": {
    "editable": true,
    "slideshow": {
     "slide_type": ""
    },
    "tags": [
     "solution"
    ]
   },
   "outputs": [
    {
     "name": "stdout",
     "output_type": "stream",
     "text": [
      "\n",
      "Call:\n",
      "lm(formula = BeerConsumption ~ AvgBeerPrice + AvgDraftBeerPrice + \n",
      "    TouristBeerConsumption + RamadanDays + Year + Month, data = all_df)\n",
      "\n",
      "Residuals:\n",
      "     Min       1Q   Median       3Q      Max \n",
      "-6592476 -1859240  -216914  2166354  6604799 \n",
      "\n",
      "Coefficients:\n",
      "                         Estimate Std. Error t value Pr(>|t|)    \n",
      "(Intercept)            -6.658e+09  5.490e+08 -12.128  < 2e-16 ***\n",
      "AvgBeerPrice           -2.690e+04  6.306e+03  -4.265 6.42e-05 ***\n",
      "AvgDraftBeerPrice       1.343e+04  8.741e+03   1.537 0.129107    \n",
      "TouristBeerConsumption  2.307e+01  4.845e+00   4.762 1.07e-05 ***\n",
      "RamadanDays            -3.167e+05  7.489e+04  -4.228 7.30e-05 ***\n",
      "Year                    3.366e+06  2.753e+05  12.228  < 2e-16 ***\n",
      "MonthFebruary          -1.798e+05  1.740e+06  -0.103 0.918000    \n",
      "MonthMarch              4.994e+06  1.890e+06   2.643 0.010235 *  \n",
      "MonthApril              1.770e+06  2.294e+06   0.772 0.443013    \n",
      "MonthMay                6.491e+06  2.813e+06   2.308 0.024113 *  \n",
      "MonthJune               1.212e+07  2.693e+06   4.499 2.79e-05 ***\n",
      "MonthJuly               1.919e+07  2.839e+06   6.759 4.08e-09 ***\n",
      "MonthAugust             2.038e+07  2.946e+06   6.917 2.14e-09 ***\n",
      "MonthSeptember          1.005e+07  2.855e+06   3.521 0.000777 ***\n",
      "MonthOctober            6.269e+06  2.384e+06   2.630 0.010593 *  \n",
      "MonthNovember           8.252e+06  1.761e+06   4.687 1.41e-05 ***\n",
      "MonthDecember           7.690e+06  1.731e+06   4.443 3.40e-05 ***\n",
      "---\n",
      "Signif. codes:  0 ‘***’ 0.001 ‘**’ 0.01 ‘*’ 0.05 ‘.’ 0.1 ‘ ’ 1\n",
      "\n",
      "Residual standard error: 3221000 on 67 degrees of freedom\n",
      "Multiple R-squared:  0.9568,\tAdjusted R-squared:  0.9465 \n",
      "F-statistic: 92.69 on 16 and 67 DF,  p-value: < 2.2e-16\n",
      "\n"
     ]
    }
   ],
   "source": [
    "%%R\n",
    "# Solution\n",
    "best_fit <- lm(\n",
    "    BeerConsumption\n",
    "    ~\n",
    "    AvgBeerPrice\n",
    "    + AvgDraftBeerPrice\n",
    "    + TouristBeerConsumption\n",
    "    + RamadanDays\n",
    "    + Year\n",
    "    + Month,\n",
    "    data = all_df \n",
    ")\n",
    "\n",
    "summary(best_fit)"
   ]
  },
  {
   "cell_type": "markdown",
   "id": "d766fd26-b4e9-487f-be46-d92ce69e1ea5",
   "metadata": {},
   "source": [
    "* Let's check the diagnostic plots:"
   ]
  },
  {
   "cell_type": "code",
   "execution_count": null,
   "id": "4fa91918-af30-4069-bd8f-7dc02707f599",
   "metadata": {},
   "outputs": [],
   "source": []
  },
  {
   "cell_type": "code",
   "execution_count": 13,
   "id": "5996733f-7ec8-4494-852f-93e4cdbb22ca",
   "metadata": {
    "editable": true,
    "slideshow": {
     "slide_type": ""
    },
    "tags": [
     "solution"
    ]
   },
   "outputs": [
    {
     "data": {
      "image/png": "[encoded data removed]",
      "text/plain": [
       "<IPython.core.display.Image object>"
      ]
     },
     "metadata": {},
     "output_type": "display_data"
    }
   ],
   "source": [
    "%%R -w 800 -h 600\n",
    "# Solution\n",
    "par(mfrow=c(2, 2))\n",
    "plot(best_fit, which=1)\n",
    "plot(best_fit, which=2)\n",
    "plot(best_fit, which=4)\n",
    "plot(best_fit, which=5)"
   ]
  },
  {
   "cell_type": "markdown",
   "id": "2e0b539f-7df1-4e49-af20-225fbb554263",
   "metadata": {},
   "source": [
    "* Let's also compute the __variance inflation factors (VIFs)__ to detect multicollinearity.\n",
    "\n",
    "* We can do this using the `ols_vif_tol()` function from the olsrr package, like this:"
   ]
  },
  {
   "cell_type": "code",
   "execution_count": null,
   "id": "70dd897e-bb26-4a64-9d4a-106b65e25398",
   "metadata": {},
   "outputs": [],
   "source": []
  },
  {
   "cell_type": "code",
   "execution_count": 14,
   "id": "c97f2d54-d83b-4dc1-b250-317efdc168e4",
   "metadata": {
    "editable": true,
    "slideshow": {
     "slide_type": ""
    },
    "tags": [
     "solution"
    ]
   },
   "outputs": [
    {
     "name": "stdout",
     "output_type": "stream",
     "text": [
      "                Variables Tolerance      VIF\n",
      "1            AvgBeerPrice 0.4030035 2.481368\n",
      "2       AvgDraftBeerPrice 0.3591388 2.784438\n",
      "3  TouristBeerConsumption 0.1060114 9.432952\n",
      "4             RamadanDays 0.5062031 1.975492\n",
      "5                    Year 0.4075691 2.453572\n",
      "6           MonthFebruary 0.5341097 1.872275\n",
      "7              MonthMarch 0.4527232 2.208855\n",
      "8              MonthApril 0.3072742 3.254423\n",
      "9                MonthMay 0.2043861 4.892700\n",
      "10              MonthJune 0.2229413 4.485485\n",
      "11              MonthJuly 0.2005803 4.985535\n",
      "12            MonthAugust 0.1863028 5.367605\n",
      "13         MonthSeptember 0.1984187 5.039848\n",
      "14           MonthOctober 0.2845077 3.514844\n",
      "15          MonthNovember 0.5216216 1.917099\n",
      "16          MonthDecember 0.5399519 1.852017\n"
     ]
    }
   ],
   "source": [
    "%%R\n",
    "# Solution\n",
    "ols_vif_tol(best_fit)"
   ]
  },
  {
   "cell_type": "markdown",
   "id": "a68e3f60-9119-4c8d-adc9-098e0149f88b",
   "metadata": {
    "editable": true,
    "slideshow": {
     "slide_type": ""
    },
    "tags": []
   },
   "source": [
    "* Assess this model using the the diagnostic plots and VIFs. If there are any issues, suggest a remedy."
   ]
  },
  {
   "cell_type": "markdown",
   "id": "ac05282b-ddf4-4b4f-b844-1b65e47ee16f",
   "metadata": {
    "editable": true,
    "slideshow": {
     "slide_type": ""
    },
    "tags": []
   },
   "source": [
    "_Write your notes here. Double-click to edit._"
   ]
  },
  {
   "cell_type": "markdown",
   "id": "3ee871f3-b8af-4ae0-bd9a-cabddb666993",
   "metadata": {
    "editable": true,
    "slideshow": {
     "slide_type": ""
    },
    "tags": [
     "solution"
    ]
   },
   "source": [
    "_Solution._\n",
    "\n",
    "- Residuals vs. fitted plot indicates that linearity appears to be violated.\n",
    "\n",
    "- We also have multicollinearity issues: the VIF of WeightedTouristBeerConsumption is greater than 5.\n",
    "\n",
    "- Let's try using log(BeerConsumption) as the response variable instead."
   ]
  },
  {
   "cell_type": "markdown",
   "id": "fc3aebcc-a100-48c5-8501-24296ec2dcfa",
   "metadata": {},
   "source": [
    "### Model 3\n",
    "\n",
    "- Let's start again with all the possible explanatory variables, but this time, with the transformed response variable."
   ]
  },
  {
   "cell_type": "code",
   "execution_count": null,
   "id": "032ce6ba-f024-44f0-9a9d-c5afc1cedabc",
   "metadata": {},
   "outputs": [],
   "source": []
  },
  {
   "cell_type": "code",
   "execution_count": 15,
   "id": "a2a623e6-295f-4601-b295-00531bfb13e8",
   "metadata": {
    "editable": true,
    "slideshow": {
     "slide_type": ""
    },
    "tags": [
     "solution"
    ]
   },
   "outputs": [
    {
     "name": "stdout",
     "output_type": "stream",
     "text": [
      "\n",
      "Call:\n",
      "lm(formula = logBeerConsumption ~ AvgBeerPrice + AvgRakiPrice + \n",
      "    AvgCannedSoftDrinkPrice + AvgCannedBeerPrice + AvgDraftBeerPrice + \n",
      "    TouristBeerConsumption + RamadanDays + Year + Month, data = all_df)\n",
      "\n",
      "Residuals:\n",
      "     Min       1Q   Median       3Q      Max \n",
      "-0.21483 -0.03829  0.00152  0.03871  0.15605 \n",
      "\n",
      "Coefficients:\n",
      "                          Estimate Std. Error t value Pr(>|t|)    \n",
      "(Intercept)             -2.425e+02  2.421e+01 -10.015 9.94e-15 ***\n",
      "AvgBeerPrice            -6.152e-04  1.954e-04  -3.149  0.00249 ** \n",
      "AvgRakiPrice            -8.309e-06  1.291e-05  -0.644  0.52198    \n",
      "AvgCannedSoftDrinkPrice  1.833e-04  1.089e-04   1.683  0.09716 .  \n",
      "AvgCannedBeerPrice      -5.388e-05  1.102e-04  -0.489  0.62655    \n",
      "AvgDraftBeerPrice        3.980e-04  2.443e-04   1.629  0.10829    \n",
      "TouristBeerConsumption   1.254e-07  1.508e-07   0.831  0.40882    \n",
      "RamadanDays             -1.420e-02  1.905e-03  -7.455 2.94e-10 ***\n",
      "Year                     1.304e-01  1.216e-02  10.721 6.32e-16 ***\n",
      "MonthFebruary            4.512e-02  4.363e-02   1.034  0.30497    \n",
      "MonthMarch               3.476e-01  5.135e-02   6.770 4.70e-09 ***\n",
      "MonthApril               2.516e-01  6.300e-02   3.994  0.00017 ***\n",
      "MonthMay                 5.526e-01  7.927e-02   6.972 2.08e-09 ***\n",
      "MonthJune                7.366e-01  7.445e-02   9.894 1.60e-14 ***\n",
      "MonthJuly                9.049e-01  7.961e-02  11.366  < 2e-16 ***\n",
      "MonthAugust              9.411e-01  8.572e-02  10.978 2.34e-16 ***\n",
      "MonthSeptember           7.140e-01  8.448e-02   8.452 5.16e-12 ***\n",
      "MonthOctober             5.431e-01  6.887e-02   7.887 5.10e-11 ***\n",
      "MonthNovember            4.440e-01  4.536e-02   9.790 2.42e-14 ***\n",
      "MonthDecember            3.694e-01  4.320e-02   8.551 3.46e-12 ***\n",
      "---\n",
      "Signif. codes:  0 ‘***’ 0.001 ‘**’ 0.01 ‘*’ 0.05 ‘.’ 0.1 ‘ ’ 1\n",
      "\n",
      "Residual standard error: 0.08004 on 64 degrees of freedom\n",
      "Multiple R-squared:  0.9752,\tAdjusted R-squared:  0.9679 \n",
      "F-statistic: 132.5 on 19 and 64 DF,  p-value: < 2.2e-16\n",
      "\n"
     ]
    }
   ],
   "source": [
    "%%R\n",
    "# Solution\n",
    "all_df$logBeerConsumption <- log(all_df$BeerConsumption)\n",
    "\n",
    "logfit <- lm(\n",
    "    logBeerConsumption\n",
    "    ~\n",
    "    AvgBeerPrice\n",
    "    + AvgRakiPrice\n",
    "    + AvgCannedSoftDrinkPrice\n",
    "    + AvgCannedBeerPrice\n",
    "    + AvgDraftBeerPrice\n",
    "    + TouristBeerConsumption\n",
    "    + RamadanDays\n",
    "    + Year\n",
    "    + Month,\n",
    "    data = all_df \n",
    ")\n",
    "\n",
    "summary(logfit)"
   ]
  },
  {
   "cell_type": "markdown",
   "id": "3a72a271-dff7-4840-90c6-32fe2e956210",
   "metadata": {},
   "source": [
    "### Best subsets regression, again"
   ]
  },
  {
   "cell_type": "markdown",
   "id": "947aab84-193a-4ceb-b8a3-8d4cf271c16c",
   "metadata": {},
   "source": [
    "- Next, let's perform best subsets regression to identify the best collection of predictors, based on AIC."
   ]
  },
  {
   "cell_type": "code",
   "execution_count": null,
   "id": "89b1fc91-fdfb-4602-8d06-5608c39f5473",
   "metadata": {},
   "outputs": [],
   "source": []
  },
  {
   "cell_type": "code",
   "execution_count": 16,
   "id": "bc71ae14-a99a-434d-b278-16994896b83b",
   "metadata": {
    "editable": true,
    "slideshow": {
     "slide_type": ""
    },
    "tags": [
     "solution"
    ]
   },
   "outputs": [
    {
     "name": "stdout",
     "output_type": "stream",
     "text": [
      "                                                              Best Subsets Regression                                                              \n",
      "---------------------------------------------------------------------------------------------------------------------------------------------------\n",
      "Model Index    Predictors\n",
      "---------------------------------------------------------------------------------------------------------------------------------------------------\n",
      "     1         TouristBeerConsumption                                                                                                               \n",
      "     2         Year Month                                                                                                                           \n",
      "     3         RamadanDays Year Month                                                                                                               \n",
      "     4         AvgBeerPrice RamadanDays Year Month                                                                                                  \n",
      "     5         AvgBeerPrice AvgCannedSoftDrinkPrice RamadanDays Year Month                                                                          \n",
      "     6         AvgBeerPrice AvgCannedSoftDrinkPrice TouristBeerConsumption RamadanDays Year Month                                                   \n",
      "     7         AvgBeerPrice AvgCannedSoftDrinkPrice AvgDraftBeerPrice TouristBeerConsumption RamadanDays Year Month                                 \n",
      "     8         AvgBeerPrice AvgRakiPrice AvgCannedSoftDrinkPrice AvgDraftBeerPrice TouristBeerConsumption RamadanDays Year Month                    \n",
      "     9         AvgBeerPrice AvgRakiPrice AvgCannedSoftDrinkPrice AvgCannedBeerPrice AvgDraftBeerPrice TouristBeerConsumption RamadanDays Year Month \n",
      "---------------------------------------------------------------------------------------------------------------------------------------------------\n",
      "\n",
      "                                                    Subsets Regression Summary                                                     \n",
      "-----------------------------------------------------------------------------------------------------------------------------------\n",
      "                       Adj.        Pred                                                                                             \n",
      "Model    R-Square    R-Square    R-Square      C(p)         AIC         SBIC          SBC        MSEP      FPE       HSP      APC  \n",
      "-----------------------------------------------------------------------------------------------------------------------------------\n",
      "  1        0.6196      0.6150      0.6042    902.2598      26.6998    -217.0123      33.9923    6.4461    0.0786    9e-04    0.3989 \n",
      "  2        0.9431      0.9335      0.9191     88.9076    -110.9045    -372.2222     -76.8731    0.9761    0.0137    2e-04    0.0611 \n",
      "  3        0.9617      0.9546      0.9418     42.9774    -142.0772    -401.7152    -105.6150    0.6660    0.0095    1e-04    0.0422 \n",
      "  4        0.9704      0.9644      0.9515     22.3297    -161.9028    -419.2998    -123.0097    0.5202    0.0075    1e-04    0.0333 \n",
      "  5        0.9732      0.9673      0.9547     17.1460    -168.2056    -424.1017    -126.8817    0.4773    0.0070    1e-04    0.0309 \n",
      "  6        0.9742      0.9680      0.9552     16.6763    -169.2607    -424.1399    -125.5060    0.4663    0.0069    1e-04    0.0305 \n",
      "  7        0.9750      0.9686      0.9544     16.5502    -169.9828    -423.7250    -123.7973    0.4575    0.0069    1e-04    0.0303 \n",
      "  8        0.9751      0.9682      0.9528     18.2391    -168.3887    -421.4225    -119.7724    0.4614    0.0070    1e-04    0.0308 \n",
      "  9        0.9752      0.9679      0.9513     20.0000    -166.7019    -419.0289    -115.6547    0.4660    0.0072    1e-04    0.0315 \n",
      "-----------------------------------------------------------------------------------------------------------------------------------\n",
      "AIC: Akaike Information Criteria \n",
      " SBIC: Sawa's Bayesian Information Criteria \n",
      " SBC: Schwarz Bayesian Criteria \n",
      " MSEP: Estimated error of prediction, assuming multivariate normality \n",
      " FPE: Final Prediction Error \n",
      " HSP: Hocking's Sp \n",
      " APC: Amemiya Prediction Criteria \n",
      "\n"
     ]
    }
   ],
   "source": [
    "%%R\n",
    "# Solution\n",
    "ols_step_best_subset(logfit, metric='aic')"
   ]
  },
  {
   "cell_type": "markdown",
   "id": "8d5f1cb5-1377-4689-8157-3b268d0ad912",
   "metadata": {},
   "source": [
    "### Model 4\n",
    "\n",
    "- Let's examine the best subsets regression by AIC."
   ]
  },
  {
   "cell_type": "code",
   "execution_count": null,
   "id": "9b6dc51f-0e4e-4ec4-bdb4-dbe11e38baff",
   "metadata": {},
   "outputs": [],
   "source": []
  },
  {
   "cell_type": "code",
   "execution_count": 17,
   "id": "151062de-b5da-4b86-9722-4a7f5f8e4601",
   "metadata": {
    "editable": true,
    "slideshow": {
     "slide_type": ""
    },
    "tags": [
     "solution"
    ]
   },
   "outputs": [
    {
     "name": "stdout",
     "output_type": "stream",
     "text": [
      "\n",
      "Call:\n",
      "lm(formula = logBeerConsumption ~ AvgBeerPrice + AvgCannedSoftDrinkPrice + \n",
      "    AvgDraftBeerPrice + TouristBeerConsumption + RamadanDays + \n",
      "    Year + Month, data = all_df)\n",
      "\n",
      "Residuals:\n",
      "      Min        1Q    Median        3Q       Max \n",
      "-0.225199 -0.041333 -0.003322  0.041210  0.160711 \n",
      "\n",
      "Coefficients:\n",
      "                          Estimate Std. Error t value Pr(>|t|)    \n",
      "(Intercept)             -2.502e+02  1.589e+01 -15.750  < 2e-16 ***\n",
      "AvgBeerPrice            -6.380e-04  1.594e-04  -4.002 0.000161 ***\n",
      "AvgCannedSoftDrinkPrice  1.354e-04  6.695e-05   2.023 0.047165 *  \n",
      "AvgDraftBeerPrice        3.219e-04  2.183e-04   1.474 0.145133    \n",
      "TouristBeerConsumption   1.815e-07  1.213e-07   1.497 0.139236    \n",
      "RamadanDays             -1.391e-02  1.843e-03  -7.550 1.69e-10 ***\n",
      "Year                     1.343e-01  7.935e-03  16.919  < 2e-16 ***\n",
      "MonthFebruary            4.220e-02  4.286e-02   0.985 0.328432    \n",
      "MonthMarch               3.359e-01  4.717e-02   7.122 9.83e-10 ***\n",
      "MonthApril               2.362e-01  5.660e-02   4.172 9.01e-05 ***\n",
      "MonthMay                 5.299e-01  6.930e-02   7.646 1.14e-10 ***\n",
      "MonthJune                7.161e-01  6.618e-02  10.820 2.90e-16 ***\n",
      "MonthJuly                8.813e-01  6.986e-02  12.615  < 2e-16 ***\n",
      "MonthAugust              9.123e-01  7.240e-02  12.601  < 2e-16 ***\n",
      "MonthSeptember           6.851e-01  7.033e-02   9.743 2.13e-14 ***\n",
      "MonthOctober             5.224e-01  5.893e-02   8.864 7.59e-13 ***\n",
      "MonthNovember            4.400e-01  4.340e-02  10.139 4.33e-15 ***\n",
      "MonthDecember            3.689e-01  4.258e-02   8.663 1.73e-12 ***\n",
      "---\n",
      "Signif. codes:  0 ‘***’ 0.001 ‘**’ 0.01 ‘*’ 0.05 ‘.’ 0.1 ‘ ’ 1\n",
      "\n",
      "Residual standard error: 0.07915 on 66 degrees of freedom\n",
      "Multiple R-squared:  0.975,\tAdjusted R-squared:  0.9686 \n",
      "F-statistic: 151.4 on 17 and 66 DF,  p-value: < 2.2e-16\n",
      "\n"
     ]
    }
   ],
   "source": [
    "%%R\n",
    "# Solution\n",
    "best_logfit <- lm(\n",
    "    logBeerConsumption\n",
    "    ~\n",
    "    AvgBeerPrice\n",
    "    + AvgCannedSoftDrinkPrice\n",
    "    + AvgDraftBeerPrice\n",
    "    + TouristBeerConsumption\n",
    "    + RamadanDays\n",
    "    + Year\n",
    "    + Month,\n",
    "    data = all_df \n",
    ")\n",
    "\n",
    "summary(best_logfit)"
   ]
  },
  {
   "cell_type": "markdown",
   "id": "e2fecba2-30fd-488a-ae12-755e13422fb8",
   "metadata": {
    "editable": true,
    "slideshow": {
     "slide_type": ""
    },
    "tags": []
   },
   "source": [
    "* Are you satisfied with this model? Why or why not?"
   ]
  },
  {
   "cell_type": "markdown",
   "id": "2d21a1a3-93ac-4191-8e18-7736ecbe2e1d",
   "metadata": {
    "editable": true,
    "slideshow": {
     "slide_type": ""
    },
    "tags": []
   },
   "source": [
    "_Write your notes here. Double-click to edit._"
   ]
  },
  {
   "cell_type": "markdown",
   "id": "9ec338d0-2d62-4823-af8d-b7f0ca851fc7",
   "metadata": {
    "editable": true,
    "slideshow": {
     "slide_type": ""
    },
    "tags": [
     "solution"
    ]
   },
   "source": [
    "*Solution.*\n",
    "\n",
    "- Looking at Model 4, we see that AvgDraftBeerPrice and TouristBeerConsumption are not statistically significant.\n",
    "\n",
    "- Let's take them out. Note that this gives us the best regression with 5 predictors (see best subsets table above)."
   ]
  },
  {
   "cell_type": "markdown",
   "id": "2a93260b-1af7-4288-a061-da9e13f5fb81",
   "metadata": {},
   "source": [
    "### Model 5\n",
    "\n",
    "- Let's examine the best subsets regression by AIC with 5 predictors."
   ]
  },
  {
   "cell_type": "code",
   "execution_count": null,
   "id": "871c1d8a-e36c-4e25-bbbe-f67de3dbd0e9",
   "metadata": {
    "editable": true,
    "slideshow": {
     "slide_type": ""
    },
    "tags": []
   },
   "outputs": [],
   "source": []
  },
  {
   "cell_type": "code",
   "execution_count": 18,
   "id": "54aa6d99-4914-4c98-ab48-29c92155656b",
   "metadata": {
    "editable": true,
    "slideshow": {
     "slide_type": ""
    },
    "tags": [
     "solution"
    ]
   },
   "outputs": [
    {
     "name": "stdout",
     "output_type": "stream",
     "text": [
      "\n",
      "Call:\n",
      "lm(formula = logBeerConsumption ~ AvgBeerPrice + AvgCannedSoftDrinkPrice + \n",
      "    RamadanDays + Year + Month, data = all_df)\n",
      "\n",
      "Residuals:\n",
      "      Min        1Q    Median        3Q       Max \n",
      "-0.212113 -0.052371 -0.001813  0.053253  0.156207 \n",
      "\n",
      "Coefficients:\n",
      "                          Estimate Std. Error t value Pr(>|t|)    \n",
      "(Intercept)             -2.567e+02  1.200e+01 -21.386  < 2e-16 ***\n",
      "AvgBeerPrice            -4.977e-04  1.196e-04  -4.162 9.08e-05 ***\n",
      "AvgCannedSoftDrinkPrice  1.747e-04  6.572e-05   2.658  0.00979 ** \n",
      "RamadanDays             -1.446e-02  1.808e-03  -7.997 2.22e-11 ***\n",
      "Year                     1.375e-01  5.971e-03  23.030  < 2e-16 ***\n",
      "MonthFebruary            4.102e-02  4.367e-02   0.939  0.35082    \n",
      "MonthMarch               3.540e-01  4.684e-02   7.557 1.39e-10 ***\n",
      "MonthApril               2.796e-01  4.861e-02   5.751 2.30e-07 ***\n",
      "MonthMay                 5.993e-01  4.540e-02  13.200  < 2e-16 ***\n",
      "MonthJune                7.858e-01  4.427e-02  17.749  < 2e-16 ***\n",
      "MonthJuly                9.545e-01  4.542e-02  21.014  < 2e-16 ***\n",
      "MonthAugust              9.922e-01  4.467e-02  22.210  < 2e-16 ***\n",
      "MonthSeptember           7.667e-01  4.389e-02  17.470  < 2e-16 ***\n",
      "MonthOctober             5.802e-01  4.355e-02  13.321  < 2e-16 ***\n",
      "MonthNovember            4.507e-01  4.392e-02  10.262 1.88e-15 ***\n",
      "MonthDecember            3.729e-01  4.336e-02   8.600 1.79e-12 ***\n",
      "---\n",
      "Signif. codes:  0 ‘***’ 0.001 ‘**’ 0.01 ‘*’ 0.05 ‘.’ 0.1 ‘ ’ 1\n",
      "\n",
      "Residual standard error: 0.08071 on 68 degrees of freedom\n",
      "Multiple R-squared:  0.9732,\tAdjusted R-squared:  0.9673 \n",
      "F-statistic: 164.8 on 15 and 68 DF,  p-value: < 2.2e-16\n",
      "\n"
     ]
    }
   ],
   "source": [
    "%%R\n",
    "# Solution\n",
    "best5_logfit <- lm(\n",
    "    logBeerConsumption\n",
    "    ~\n",
    "    AvgBeerPrice\n",
    "    + AvgCannedSoftDrinkPrice\n",
    "    + RamadanDays\n",
    "    + Year\n",
    "    + Month,\n",
    "    data = all_df \n",
    ")\n",
    "\n",
    "summary(best5_logfit)"
   ]
  },
  {
   "cell_type": "code",
   "execution_count": null,
   "id": "9b777ae8-3cef-4504-b55a-1281182a0e04",
   "metadata": {
    "editable": true,
    "slideshow": {
     "slide_type": ""
    },
    "tags": []
   },
   "outputs": [],
   "source": []
  },
  {
   "cell_type": "code",
   "execution_count": 19,
   "id": "e87dbf27-f8a4-4ae8-bfd0-de870902c4eb",
   "metadata": {
    "editable": true,
    "slideshow": {
     "slide_type": ""
    },
    "tags": [
     "solution"
    ]
   },
   "outputs": [
    {
     "data": {
      "image/png": "[encoded data removed]",
      "text/plain": [
       "<IPython.core.display.Image object>"
      ]
     },
     "metadata": {},
     "output_type": "display_data"
    }
   ],
   "source": [
    "%%R -w 800 -h 600 \n",
    "# Solution\n",
    "par(mfrow=c(2, 2))\n",
    "plot(best5_logfit, which=1)\n",
    "plot(best5_logfit, which=2)\n",
    "plot(best5_logfit, which=4)\n",
    "plot(best5_logfit, which=5)"
   ]
  },
  {
   "cell_type": "code",
   "execution_count": 20,
   "id": "d3c9e936-b097-45ce-b5cc-1750c088fea7",
   "metadata": {
    "editable": true,
    "slideshow": {
     "slide_type": ""
    },
    "tags": [
     "solution"
    ]
   },
   "outputs": [
    {
     "name": "stdout",
     "output_type": "stream",
     "text": [
      "                 Variables Tolerance      VIF\n",
      "1             AvgBeerPrice 0.7035491 1.421365\n",
      "2  AvgCannedSoftDrinkPrice 0.4621086 2.163994\n",
      "3              RamadanDays 0.5450715 1.834622\n",
      "4                     Year 0.5438136 1.838866\n",
      "5            MonthFebruary 0.5323949 1.878305\n",
      "6               MonthMarch 0.4627657 2.160921\n",
      "7               MonthApril 0.4297176 2.327110\n",
      "8                 MonthMay 0.4924821 2.030531\n",
      "9                MonthJune 0.5180137 1.930451\n",
      "10               MonthJuly 0.4920505 2.032312\n",
      "11             MonthAugust 0.5086548 1.965970\n",
      "12          MonthSeptember 0.5271079 1.897145\n",
      "13            MonthOctober 0.5351536 1.868622\n",
      "14           MonthNovember 0.5262080 1.900389\n",
      "15           MonthDecember 0.5400055 1.851833\n"
     ]
    }
   ],
   "source": [
    "%%R \n",
    "# Solution\n",
    "ols_vif_tol(best5_logfit)"
   ]
  },
  {
   "cell_type": "markdown",
   "id": "1a0e0662-c439-4e7f-8d7a-b06ed399d111",
   "metadata": {
    "editable": true,
    "slideshow": {
     "slide_type": ""
    },
    "tags": []
   },
   "source": [
    "* Assess this model using the the diagnostic plots and VIFs. If there are any issues, suggest a remedy."
   ]
  },
  {
   "cell_type": "markdown",
   "id": "cbc3050b-c856-4963-9038-f8f431495c61",
   "metadata": {
    "editable": true,
    "slideshow": {
     "slide_type": ""
    },
    "tags": []
   },
   "source": [
    "_Write your notes here. Double-click to edit._"
   ]
  },
  {
   "cell_type": "markdown",
   "id": "c9b7d7e4-4094-41bc-9a6c-b0e516b1361d",
   "metadata": {
    "editable": true,
    "slideshow": {
     "slide_type": ""
    },
    "tags": [
     "solution"
    ]
   },
   "source": [
    "_Solution._\n",
    "\n",
    "- Residuals vs. fitted plot indicates that linearity and equal variance are reasonably satisfied.\n",
    "\n",
    "- Normal QQ plot indicates that the residuals are approximately normally distributed.\n",
    "\n",
    "- Multicollinearity does not appear to be an issue, since the VIFs are all below 5."
   ]
  }
 ],
 "metadata": {
  "kernelspec": {
   "display_name": "Python 3 (ipykernel)",
   "language": "python",
   "name": "python3"
  },
  "language_info": {
   "codemirror_mode": {
    "name": "ipython",
    "version": 3
   },
   "file_extension": ".py",
   "mimetype": "text/x-python",
   "name": "python",
   "nbconvert_exporter": "python",
   "pygments_lexer": "ipython3",
   "version": "3.11.3"
  }
 },
 "nbformat": 4,
 "nbformat_minor": 5
}
